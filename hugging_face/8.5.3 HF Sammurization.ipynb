{
 "cells": [
  {
   "cell_type": "code",
   "execution_count": 1,
   "metadata": {
    "id": "YynGvaWAOmiy"
   },
   "outputs": [],
   "source": [
    "from transformers import pipeline\n",
    "summarizer = pipeline(\"summarization\", model=\"philschmid/bart-large-cnn-samsum\")\n"
   ]
  },
  {
   "cell_type": "code",
   "execution_count": 2,
   "metadata": {
    "colab": {
     "base_uri": "https://localhost:8080/"
    },
    "executionInfo": {
     "elapsed": 18364,
     "status": "ok",
     "timestamp": 1636889761872,
     "user": {
      "displayName": "ahmed samy",
      "photoUrl": "https://lh3.googleusercontent.com/a/default-user=s64",
      "userId": "08145535144646204615"
     },
     "user_tz": 0
    },
    "id": "f_LYmZ7hM5HL",
    "outputId": "87b98432-21f0-438d-9460-0809dbf22fd6"
   },
   "outputs": [
    {
     "data": {
      "text/plain": [
       "'Joseph Vissarionovich Stalin (18 December 1878 – 5 March 1953) was a Georgian revolutionary and Soviet political leader. He governed the Soviet Union from 1924 until his death in 1953. He served as both General Secretary of the Communist Party of the USSR and Chairman of the Council of Ministers. He was committed to the Leninist interpretation of Marxism.'"
      ]
     },
     "execution_count": 2,
     "metadata": {},
     "output_type": "execute_result"
    }
   ],
   "source": [
    "article_text = '''\n",
    "Joseph Vissarionovich Stalin[f] (18 December [O.S. 6 December] 1878[1] – 5 March 1953) was a Georgian revolutionary and Soviet political leader who governed the Soviet Union from 1924 until his death in 1953. He served as both General Secretary of the Communist \n",
    "Party of the Soviet Union (1922–1952) and Chairman of the Council of Ministers of the Soviet Union (1941–1953). Despite initially governing the country as part of a collective leadership, he ultimately consolidated power to become the Soviet Union's dictator by the 1930s.\n",
    " A communist ideologically committed to the Leninist interpretation of Marxism, Stalin formalised these ideas as Marxism–Leninism while his own policies are known as Stalinism.\n",
    "\n",
    "Born to a poor family in Gori in the Russian Empire (now Georgia), Stalin attended the Tbilisi Spiritual Seminary before eventually joining the Marxist Russian Social Democratic Labour Party. He went on to edit the party's newspaper, Pravda, and raised funds for \n",
    "Vladimir Lenin's Bolshevik faction via robberies, kidnappings and protection rackets. Repeatedly arrested, he underwent several internal exiles. After the Bolsheviks seized power during the October Revolution and created a one-party state under the newly formed Communist \n",
    "Party in 1917, Stalin joined its governing Politburo. Serving in the Russian Civil War before overseeing the Soviet Union's establishment in 1922, Stalin assumed leadership over the country following Lenin's death in 1924. Under Stalin, socialism in one country became a central \n",
    "tenet of the party's dogma. As a result of the Five-Year Plans implemented under his leadership, the country underwent agricultural collectivisation and rapid industrialisation, creating a centralised command economy. This led to severe disruptions of food production that contributed \n",
    "to the famine of 1932–33. To eradicate accused \"enemies of the working class\", Stalin instituted the Great Purge, in which over a million were imprisoned and at least 700,000 executed between 1934 and 1939. By 1937, he had absolute control over the party and government.\n",
    "'''\n",
    "\n",
    " \n",
    "summarizer(article_text)[0]['summary_text']"
   ]
  },
  {
   "cell_type": "code",
   "execution_count": null,
   "metadata": {
    "id": "LUBSfZV5P-sr"
   },
   "outputs": [],
   "source": []
  },
  {
   "cell_type": "code",
   "execution_count": null,
   "metadata": {
    "id": "M7iJK3b6P-pp"
   },
   "outputs": [],
   "source": []
  }
 ],
 "metadata": {
  "colab": {
   "authorship_tag": "ABX9TyO/iyxbuSTxZBBJ7rV5685P",
   "collapsed_sections": [],
   "name": "8.5.3 HF Sammurization.ipynb",
   "provenance": []
  },
  "kernelspec": {
   "display_name": "Python 3 (ipykernel)",
   "language": "python",
   "name": "python3"
  },
  "language_info": {
   "codemirror_mode": {
    "name": "ipython",
    "version": 3
   },
   "file_extension": ".py",
   "mimetype": "text/x-python",
   "name": "python",
   "nbconvert_exporter": "python",
   "pygments_lexer": "ipython3",
   "version": "3.9.13"
  }
 },
 "nbformat": 4,
 "nbformat_minor": 1
}
