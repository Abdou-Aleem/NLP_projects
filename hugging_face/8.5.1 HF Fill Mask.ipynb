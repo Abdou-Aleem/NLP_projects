{
 "cells": [
  {
   "cell_type": "code",
   "execution_count": 1,
   "metadata": {
    "executionInfo": {
     "elapsed": 5505,
     "status": "ok",
     "timestamp": 1636887461211,
     "user": {
      "displayName": "ahmed samy",
      "photoUrl": "https://lh3.googleusercontent.com/a/default-user=s64",
      "userId": "08145535144646204615"
     },
     "user_tz": 0
    },
    "id": "MyqcuhblzmWA"
   },
   "outputs": [],
   "source": [
    "from transformers import AutoTokenizer, AutoModelForMaskedLM\n",
    "  \n",
    "tokenizer = AutoTokenizer.from_pretrained(\"albert-base-v2\")\n",
    "\n",
    "model = AutoModelForMaskedLM.from_pretrained(\"albert-base-v2\")"
   ]
  },
  {
   "cell_type": "code",
   "execution_count": 2,
   "metadata": {
    "colab": {
     "base_uri": "https://localhost:8080/"
    },
    "executionInfo": {
     "elapsed": 1749,
     "status": "ok",
     "timestamp": 1636887462923,
     "user": {
      "displayName": "ahmed samy",
      "photoUrl": "https://lh3.googleusercontent.com/a/default-user=s64",
      "userId": "08145535144646204615"
     },
     "user_tz": 0
    },
    "id": "-sFbAjSzz5tn",
    "outputId": "c3ca7545-6c22-4f09-c5e5-e22aad1febf9"
   },
   "outputs": [
    {
     "data": {
      "text/plain": [
       "[{'score': 0.029577787965536118,\n",
       "  'token': 28744,\n",
       "  'token_str': 'chauffeur',\n",
       "  'sequence': 'the man worked as a chauffeur.'},\n",
       " {'score': 0.028866371139883995,\n",
       "  'token': 29477,\n",
       "  'token_str': 'janitor',\n",
       "  'sequence': 'the man worked as a janitor.'},\n",
       " {'score': 0.02581206150352955,\n",
       "  'token': 29024,\n",
       "  'token_str': 'shoemaker',\n",
       "  'sequence': 'the man worked as a shoemaker.'},\n",
       " {'score': 0.0184981357306242,\n",
       "  'token': 21238,\n",
       "  'token_str': 'blacksmith',\n",
       "  'sequence': 'the man worked as a blacksmith.'},\n",
       " {'score': 0.018207771703600883,\n",
       "  'token': 3672,\n",
       "  'token_str': 'lawyer',\n",
       "  'sequence': 'the man worked as a lawyer.'}]"
      ]
     },
     "execution_count": 2,
     "metadata": {},
     "output_type": "execute_result"
    }
   ],
   "source": [
    "from transformers import pipeline\n",
    "unmasker = pipeline('fill-mask', model='albert-base-v2')\n",
    "results = unmasker(\"The man worked as a [MASK].\")\n",
    "results"
   ]
  },
  {
   "cell_type": "code",
   "execution_count": 3,
   "metadata": {
    "colab": {
     "base_uri": "https://localhost:8080/"
    },
    "executionInfo": {
     "elapsed": 27,
     "status": "ok",
     "timestamp": 1636887462925,
     "user": {
      "displayName": "ahmed samy",
      "photoUrl": "https://lh3.googleusercontent.com/a/default-user=s64",
      "userId": "08145535144646204615"
     },
     "user_tz": 0
    },
    "id": "IKOs_pUCz5rA",
    "outputId": "1de36b51-a422-42d1-e23a-e54ae7f95823"
   },
   "outputs": [
    {
     "name": "stdout",
     "output_type": "stream",
     "text": [
      "result : (the man worked as a chauffeur.)  with score : (0.029577787965536118) \n",
      "result : (the man worked as a janitor.)  with score : (0.028866371139883995) \n",
      "result : (the man worked as a shoemaker.)  with score : (0.02581206150352955) \n",
      "result : (the man worked as a blacksmith.)  with score : (0.0184981357306242) \n",
      "result : (the man worked as a lawyer.)  with score : (0.018207771703600883) \n"
     ]
    }
   ],
   "source": [
    "for r in results : \n",
    "    print(f'result : ({r[\"sequence\"]})  with score : ({r[\"score\"]}) ')"
   ]
  },
  {
   "cell_type": "code",
   "execution_count": 4,
   "metadata": {
    "executionInfo": {
     "elapsed": 23,
     "status": "ok",
     "timestamp": 1636887462927,
     "user": {
      "displayName": "ahmed samy",
      "photoUrl": "https://lh3.googleusercontent.com/a/default-user=s64",
      "userId": "08145535144646204615"
     },
     "user_tz": 0
    },
    "id": "0gGDnnRsz5n8"
   },
   "outputs": [],
   "source": [
    "def CompletePhrase(text) : \n",
    "        unmasker = pipeline('fill-mask', model='albert-base-v2')\n",
    "        results = unmasker(text)\n",
    "        for r in results : \n",
    "            print(f'result : ({r[\"sequence\"]})  with score : ({r[\"score\"]}) ')"
   ]
  },
  {
   "cell_type": "code",
   "execution_count": 5,
   "metadata": {
    "colab": {
     "base_uri": "https://localhost:8080/"
    },
    "executionInfo": {
     "elapsed": 23,
     "status": "ok",
     "timestamp": 1636887462928,
     "user": {
      "displayName": "ahmed samy",
      "photoUrl": "https://lh3.googleusercontent.com/a/default-user=s64",
      "userId": "08145535144646204615"
     },
     "user_tz": 0
    },
    "id": "4E8qO6tczmS4",
    "outputId": "0bfd2ed1-3ed6-43a8-8169-f817d238f08a"
   },
   "outputs": [
    {
     "name": "stdout",
     "output_type": "stream",
     "text": [
      "result : (thessaloniki is the capital of greece)  with score : (0.35404932498931885) \n",
      "result : (athens is the capital of greece)  with score : (0.08959805965423584) \n",
      "result : (greece is the capital of greece)  with score : (0.06178467348217964) \n",
      "result : (crete is the capital of greece)  with score : (0.037052299827337265) \n",
      "result : (constantinople is the capital of greece)  with score : (0.023933669552206993) \n"
     ]
    }
   ],
   "source": [
    "CompletePhrase('[MASK] is the capital of Greece')"
   ]
  },
  {
   "cell_type": "code",
   "execution_count": 6,
   "metadata": {
    "colab": {
     "base_uri": "https://localhost:8080/"
    },
    "executionInfo": {
     "elapsed": 2487,
     "status": "ok",
     "timestamp": 1636887465397,
     "user": {
      "displayName": "ahmed samy",
      "photoUrl": "https://lh3.googleusercontent.com/a/default-user=s64",
      "userId": "08145535144646204615"
     },
     "user_tz": 0
    },
    "id": "fBhUKRPezmOt",
    "outputId": "c675007f-0bbd-4dd2-c6f8-a61437e97920"
   },
   "outputs": [
    {
     "name": "stdout",
     "output_type": "stream",
     "text": [
      "result : (i called evalle today)  with score : (0.35067424178123474) \n",
      "result : (i called joyah today)  with score : (0.05085711553692818) \n",
      "result : (i called 911 today)  with score : (0.01818135194480419) \n",
      "result : (i called yesterday today)  with score : (0.010992603376507759) \n",
      "result : (i called my today)  with score : (0.007235174532979727) \n"
     ]
    }
   ],
   "source": [
    "CompletePhrase('I called [MASK] today')"
   ]
  },
  {
   "cell_type": "code",
   "execution_count": null,
   "metadata": {
    "executionInfo": {
     "elapsed": 60,
     "status": "ok",
     "timestamp": 1636887465399,
     "user": {
      "displayName": "ahmed samy",
      "photoUrl": "https://lh3.googleusercontent.com/a/default-user=s64",
      "userId": "08145535144646204615"
     },
     "user_tz": 0
    },
    "id": "xupa9OmZ11HS"
   },
   "outputs": [],
   "source": []
  },
  {
   "cell_type": "code",
   "execution_count": null,
   "metadata": {
    "executionInfo": {
     "elapsed": 60,
     "status": "ok",
     "timestamp": 1636887465401,
     "user": {
      "displayName": "ahmed samy",
      "photoUrl": "https://lh3.googleusercontent.com/a/default-user=s64",
      "userId": "08145535144646204615"
     },
     "user_tz": 0
    },
    "id": "7tpB3lyuF7Yj"
   },
   "outputs": [],
   "source": []
  },
  {
   "cell_type": "code",
   "execution_count": 7,
   "metadata": {
    "colab": {
     "base_uri": "https://localhost:8080/",
     "height": 437,
     "referenced_widgets": [
      "9faeef9553b54d8684ebb556b1ccd9ea",
      "d82e4fb5b8384606bea7f37bdd21bc35",
      "01a62d55af2b4dca833252d1e575b2fa",
      "a11f6ca3273e4009b368b8d639068152",
      "694b9696b9dd449cad29b762e0522130",
      "a859daa78be946b7bab0e03b26ed4d77",
      "dd423643bef6417aa1cc1351011e1e40",
      "efad42d7280e4644b36b3ee4a69336cb",
      "b8890cb7584e42ebb93b83969843f474",
      "a5ab7ad6711447bd8163e0f57c367095",
      "3c1ea8cd89da438aa7106fd1620579fc",
      "b5036a1e53f543e5ba5e1cc30feed6ac",
      "a832c4e14e60423b9edb8b4a01e934ec",
      "397048838bdd47c99db26bd7ce676081",
      "261d8a1c8d4d46ab9c77e2bb1da0d785",
      "564a20d5e33a413e81115921a97ffcbc",
      "8a111605b0304b0384e5de2e57289127",
      "f0a5590a7b584bee9d6f48a77ee736fb",
      "50ee3ae4753c44059ccc6c1c3a05039a",
      "db7f0aa82d5c41878cf8f85e74566dfc",
      "854aae9eed304b5abc9b1293f15ef4c2",
      "4462905533394edf91efdfb4b9196fb6",
      "8eba5cb93c2a4f8da24d670b1872ab79",
      "0d893669e3e84ee3963f50e85acce862",
      "d8292be982b54a6bac73eb46fdd4a98c",
      "ac0f1e01186e4b5e994fdca41562ce06",
      "a774c2ddaa04417399f4c70d1f860b2b",
      "32f60d26f68b4b31b6cc7cf47c25e8b4",
      "2c07eafaf5ae47e6b0d9092b3a701e1f",
      "6025d1aa2d0e4603859c6d232803ddf9",
      "f49275687d834c2fb757b95f78407e26",
      "e30b2944208946d1b8be661bd702e78a",
      "84f33eef9ab147d3b9af5fb5fed9b263"
     ]
    },
    "executionInfo": {
     "elapsed": 33489,
     "status": "ok",
     "timestamp": 1636887498831,
     "user": {
      "displayName": "ahmed samy",
      "photoUrl": "https://lh3.googleusercontent.com/a/default-user=s64",
      "userId": "08145535144646204615"
     },
     "user_tz": 0
    },
    "id": "Py3rruxaF7Vg",
    "outputId": "9144931f-6c37-4555-c910-8dca37403774"
   },
   "outputs": [
    {
     "data": {
      "text/plain": [
       "[{'score': 0.10563965886831284,\n",
       "  'token': 54543,\n",
       "  'token_str': 'fashion',\n",
       "  'sequence': \"Hello I'm a fashion model.\"},\n",
       " {'score': 0.08015332370996475,\n",
       "  'token': 3525,\n",
       "  'token_str': 'new',\n",
       "  'sequence': \"Hello I'm a new model.\"},\n",
       " {'score': 0.03341325744986534,\n",
       "  'token': 3299,\n",
       "  'token_str': 'model',\n",
       "  'sequence': \"Hello I'm a model model.\"},\n",
       " {'score': 0.030217817053198814,\n",
       "  'token': 92265,\n",
       "  'token_str': 'French',\n",
       "  'sequence': \"Hello I'm a French model.\"},\n",
       " {'score': 0.02643599547445774,\n",
       "  'token': 17473,\n",
       "  'token_str': 'sexy',\n",
       "  'sequence': \"Hello I'm a sexy model.\"}]"
      ]
     },
     "execution_count": 7,
     "metadata": {},
     "output_type": "execute_result"
    }
   ],
   "source": [
    "unmasker = pipeline('fill-mask', model='xlm-roberta-base')\n",
    "unmasker(\"Hello I'm a <mask> model.\")"
   ]
  },
  {
   "cell_type": "code",
   "execution_count": 8,
   "metadata": {
    "executionInfo": {
     "elapsed": 369,
     "status": "ok",
     "timestamp": 1636887518731,
     "user": {
      "displayName": "ahmed samy",
      "photoUrl": "https://lh3.googleusercontent.com/a/default-user=s64",
      "userId": "08145535144646204615"
     },
     "user_tz": 0
    },
    "id": "GMYqPYBPF-YE"
   },
   "outputs": [],
   "source": [
    "def CompletePhrase(text) : \n",
    "    unmasker = pipeline('fill-mask', model='xlm-roberta-base')\n",
    "    results = unmasker(text)\n",
    "    for r in results : \n",
    "        print(f'result : ({r[\"sequence\"]})  with score : ({r[\"score\"]}) ')"
   ]
  },
  {
   "cell_type": "code",
   "execution_count": null,
   "metadata": {
    "id": "mM-Ru8RTGVrs"
   },
   "outputs": [],
   "source": []
  },
  {
   "cell_type": "code",
   "execution_count": 9,
   "metadata": {
    "colab": {
     "base_uri": "https://localhost:8080/"
    },
    "executionInfo": {
     "elapsed": 7166,
     "status": "ok",
     "timestamp": 1636887597375,
     "user": {
      "displayName": "ahmed samy",
      "photoUrl": "https://lh3.googleusercontent.com/a/default-user=s64",
      "userId": "08145535144646204615"
     },
     "user_tz": 0
    },
    "id": "9wMxPoZjGXwx",
    "outputId": "896dddb7-2a83-4963-90f5-0107999305a3"
   },
   "outputs": [
    {
     "name": "stdout",
     "output_type": "stream",
     "text": [
      "result : (Sofia is the capital of Greece)  with score : (0.23936520516872406) \n",
      "result : (Athen is the capital of Greece)  with score : (0.12998035550117493) \n",
      "result : (It is the capital of Greece)  with score : (0.09171321988105774) \n",
      "result : (Vilnius is the capital of Greece)  with score : (0.07483216375112534) \n",
      "result : (This is the capital of Greece)  with score : (0.07441655546426773) \n"
     ]
    }
   ],
   "source": [
    "CompletePhrase('<mask> is the capital of Greece')"
   ]
  },
  {
   "cell_type": "code",
   "execution_count": 10,
   "metadata": {
    "colab": {
     "base_uri": "https://localhost:8080/"
    },
    "executionInfo": {
     "elapsed": 6186,
     "status": "ok",
     "timestamp": 1636887622665,
     "user": {
      "displayName": "ahmed samy",
      "photoUrl": "https://lh3.googleusercontent.com/a/default-user=s64",
      "userId": "08145535144646204615"
     },
     "user_tz": 0
    },
    "id": "udFiK1ybGXwz",
    "outputId": "a352646a-6db0-40c0-8a4b-4840a4b56463"
   },
   "outputs": [
    {
     "name": "stdout",
     "output_type": "stream",
     "text": [
      "result : (I called her today)  with score : (0.44086721539497375) \n",
      "result : (I called you today)  with score : (0.18305730819702148) \n",
      "result : (I called it today)  with score : (0.0398881621658802) \n",
      "result : (I called him today)  with score : (0.026788227260112762) \n",
      "result : (I called them today)  with score : (0.022263864055275917) \n"
     ]
    }
   ],
   "source": [
    "CompletePhrase('I called <mask> today')"
   ]
  },
  {
   "cell_type": "code",
   "execution_count": null,
   "metadata": {
    "id": "dZnFfuGGGZbe"
   },
   "outputs": [],
   "source": []
  }
 ],
 "metadata": {
  "colab": {
   "authorship_tag": "ABX9TyMbaVw9IZ4aj59tUwClZvvO",
   "collapsed_sections": [],
   "name": "8.5.1 HF Fill Mask.ipynb",
   "provenance": []
  },
  "kernelspec": {
   "display_name": "Python 3 (ipykernel)",
   "language": "python",
   "name": "python3"
  },
  "language_info": {
   "codemirror_mode": {
    "name": "ipython",
    "version": 3
   },
   "file_extension": ".py",
   "mimetype": "text/x-python",
   "name": "python",
   "nbconvert_exporter": "python",
   "pygments_lexer": "ipython3",
   "version": "3.9.13"
  },
  "widgets": {
   "application/vnd.jupyter.widget-state+json": {
    "01a62d55af2b4dca833252d1e575b2fa": {
     "model_module": "@jupyter-widgets/controls",
     "model_module_version": "1.5.0",
     "model_name": "HTMLModel",
     "state": {
      "_dom_classes": [],
      "_model_module": "@jupyter-widgets/controls",
      "_model_module_version": "1.5.0",
      "_model_name": "HTMLModel",
      "_view_count": null,
      "_view_module": "@jupyter-widgets/controls",
      "_view_module_version": "1.5.0",
      "_view_name": "HTMLView",
      "description": "",
      "description_tooltip": null,
      "layout": "IPY_MODEL_dd423643bef6417aa1cc1351011e1e40",
      "placeholder": "​",
      "style": "IPY_MODEL_a859daa78be946b7bab0e03b26ed4d77",
      "value": "Downloading: 100%"
     }
    },
    "0d893669e3e84ee3963f50e85acce862": {
     "model_module": "@jupyter-widgets/base",
     "model_module_version": "1.2.0",
     "model_name": "LayoutModel",
     "state": {
      "_model_module": "@jupyter-widgets/base",
      "_model_module_version": "1.2.0",
      "_model_name": "LayoutModel",
      "_view_count": null,
      "_view_module": "@jupyter-widgets/base",
      "_view_module_version": "1.2.0",
      "_view_name": "LayoutView",
      "align_content": null,
      "align_items": null,
      "align_self": null,
      "border": null,
      "bottom": null,
      "display": null,
      "flex": null,
      "flex_flow": null,
      "grid_area": null,
      "grid_auto_columns": null,
      "grid_auto_flow": null,
      "grid_auto_rows": null,
      "grid_column": null,
      "grid_gap": null,
      "grid_row": null,
      "grid_template_areas": null,
      "grid_template_columns": null,
      "grid_template_rows": null,
      "height": null,
      "justify_content": null,
      "justify_items": null,
      "left": null,
      "margin": null,
      "max_height": null,
      "max_width": null,
      "min_height": null,
      "min_width": null,
      "object_fit": null,
      "object_position": null,
      "order": null,
      "overflow": null,
      "overflow_x": null,
      "overflow_y": null,
      "padding": null,
      "right": null,
      "top": null,
      "visibility": null,
      "width": null
     }
    },
    "261d8a1c8d4d46ab9c77e2bb1da0d785": {
     "model_module": "@jupyter-widgets/controls",
     "model_module_version": "1.5.0",
     "model_name": "FloatProgressModel",
     "state": {
      "_dom_classes": [],
      "_model_module": "@jupyter-widgets/controls",
      "_model_module_version": "1.5.0",
      "_model_name": "FloatProgressModel",
      "_view_count": null,
      "_view_module": "@jupyter-widgets/controls",
      "_view_module_version": "1.5.0",
      "_view_name": "ProgressView",
      "bar_style": "success",
      "description": "",
      "description_tooltip": null,
      "layout": "IPY_MODEL_db7f0aa82d5c41878cf8f85e74566dfc",
      "max": 5069051,
      "min": 0,
      "orientation": "horizontal",
      "style": "IPY_MODEL_50ee3ae4753c44059ccc6c1c3a05039a",
      "value": 5069051
     }
    },
    "2c07eafaf5ae47e6b0d9092b3a701e1f": {
     "model_module": "@jupyter-widgets/base",
     "model_module_version": "1.2.0",
     "model_name": "LayoutModel",
     "state": {
      "_model_module": "@jupyter-widgets/base",
      "_model_module_version": "1.2.0",
      "_model_name": "LayoutModel",
      "_view_count": null,
      "_view_module": "@jupyter-widgets/base",
      "_view_module_version": "1.2.0",
      "_view_name": "LayoutView",
      "align_content": null,
      "align_items": null,
      "align_self": null,
      "border": null,
      "bottom": null,
      "display": null,
      "flex": null,
      "flex_flow": null,
      "grid_area": null,
      "grid_auto_columns": null,
      "grid_auto_flow": null,
      "grid_auto_rows": null,
      "grid_column": null,
      "grid_gap": null,
      "grid_row": null,
      "grid_template_areas": null,
      "grid_template_columns": null,
      "grid_template_rows": null,
      "height": null,
      "justify_content": null,
      "justify_items": null,
      "left": null,
      "margin": null,
      "max_height": null,
      "max_width": null,
      "min_height": null,
      "min_width": null,
      "object_fit": null,
      "object_position": null,
      "order": null,
      "overflow": null,
      "overflow_x": null,
      "overflow_y": null,
      "padding": null,
      "right": null,
      "top": null,
      "visibility": null,
      "width": null
     }
    },
    "32f60d26f68b4b31b6cc7cf47c25e8b4": {
     "model_module": "@jupyter-widgets/controls",
     "model_module_version": "1.5.0",
     "model_name": "DescriptionStyleModel",
     "state": {
      "_model_module": "@jupyter-widgets/controls",
      "_model_module_version": "1.5.0",
      "_model_name": "DescriptionStyleModel",
      "_view_count": null,
      "_view_module": "@jupyter-widgets/base",
      "_view_module_version": "1.2.0",
      "_view_name": "StyleView",
      "description_width": ""
     }
    },
    "397048838bdd47c99db26bd7ce676081": {
     "model_module": "@jupyter-widgets/controls",
     "model_module_version": "1.5.0",
     "model_name": "HTMLModel",
     "state": {
      "_dom_classes": [],
      "_model_module": "@jupyter-widgets/controls",
      "_model_module_version": "1.5.0",
      "_model_name": "HTMLModel",
      "_view_count": null,
      "_view_module": "@jupyter-widgets/controls",
      "_view_module_version": "1.5.0",
      "_view_name": "HTMLView",
      "description": "",
      "description_tooltip": null,
      "layout": "IPY_MODEL_f0a5590a7b584bee9d6f48a77ee736fb",
      "placeholder": "​",
      "style": "IPY_MODEL_8a111605b0304b0384e5de2e57289127",
      "value": "Downloading: 100%"
     }
    },
    "3c1ea8cd89da438aa7106fd1620579fc": {
     "model_module": "@jupyter-widgets/base",
     "model_module_version": "1.2.0",
     "model_name": "LayoutModel",
     "state": {
      "_model_module": "@jupyter-widgets/base",
      "_model_module_version": "1.2.0",
      "_model_name": "LayoutModel",
      "_view_count": null,
      "_view_module": "@jupyter-widgets/base",
      "_view_module_version": "1.2.0",
      "_view_name": "LayoutView",
      "align_content": null,
      "align_items": null,
      "align_self": null,
      "border": null,
      "bottom": null,
      "display": null,
      "flex": null,
      "flex_flow": null,
      "grid_area": null,
      "grid_auto_columns": null,
      "grid_auto_flow": null,
      "grid_auto_rows": null,
      "grid_column": null,
      "grid_gap": null,
      "grid_row": null,
      "grid_template_areas": null,
      "grid_template_columns": null,
      "grid_template_rows": null,
      "height": null,
      "justify_content": null,
      "justify_items": null,
      "left": null,
      "margin": null,
      "max_height": null,
      "max_width": null,
      "min_height": null,
      "min_width": null,
      "object_fit": null,
      "object_position": null,
      "order": null,
      "overflow": null,
      "overflow_x": null,
      "overflow_y": null,
      "padding": null,
      "right": null,
      "top": null,
      "visibility": null,
      "width": null
     }
    },
    "4462905533394edf91efdfb4b9196fb6": {
     "model_module": "@jupyter-widgets/base",
     "model_module_version": "1.2.0",
     "model_name": "LayoutModel",
     "state": {
      "_model_module": "@jupyter-widgets/base",
      "_model_module_version": "1.2.0",
      "_model_name": "LayoutModel",
      "_view_count": null,
      "_view_module": "@jupyter-widgets/base",
      "_view_module_version": "1.2.0",
      "_view_name": "LayoutView",
      "align_content": null,
      "align_items": null,
      "align_self": null,
      "border": null,
      "bottom": null,
      "display": null,
      "flex": null,
      "flex_flow": null,
      "grid_area": null,
      "grid_auto_columns": null,
      "grid_auto_flow": null,
      "grid_auto_rows": null,
      "grid_column": null,
      "grid_gap": null,
      "grid_row": null,
      "grid_template_areas": null,
      "grid_template_columns": null,
      "grid_template_rows": null,
      "height": null,
      "justify_content": null,
      "justify_items": null,
      "left": null,
      "margin": null,
      "max_height": null,
      "max_width": null,
      "min_height": null,
      "min_width": null,
      "object_fit": null,
      "object_position": null,
      "order": null,
      "overflow": null,
      "overflow_x": null,
      "overflow_y": null,
      "padding": null,
      "right": null,
      "top": null,
      "visibility": null,
      "width": null
     }
    },
    "50ee3ae4753c44059ccc6c1c3a05039a": {
     "model_module": "@jupyter-widgets/controls",
     "model_module_version": "1.5.0",
     "model_name": "ProgressStyleModel",
     "state": {
      "_model_module": "@jupyter-widgets/controls",
      "_model_module_version": "1.5.0",
      "_model_name": "ProgressStyleModel",
      "_view_count": null,
      "_view_module": "@jupyter-widgets/base",
      "_view_module_version": "1.2.0",
      "_view_name": "StyleView",
      "bar_color": null,
      "description_width": ""
     }
    },
    "564a20d5e33a413e81115921a97ffcbc": {
     "model_module": "@jupyter-widgets/controls",
     "model_module_version": "1.5.0",
     "model_name": "HTMLModel",
     "state": {
      "_dom_classes": [],
      "_model_module": "@jupyter-widgets/controls",
      "_model_module_version": "1.5.0",
      "_model_name": "HTMLModel",
      "_view_count": null,
      "_view_module": "@jupyter-widgets/controls",
      "_view_module_version": "1.5.0",
      "_view_name": "HTMLView",
      "description": "",
      "description_tooltip": null,
      "layout": "IPY_MODEL_4462905533394edf91efdfb4b9196fb6",
      "placeholder": "​",
      "style": "IPY_MODEL_854aae9eed304b5abc9b1293f15ef4c2",
      "value": " 4.83M/4.83M [00:00&lt;00:00, 24.3MB/s]"
     }
    },
    "6025d1aa2d0e4603859c6d232803ddf9": {
     "model_module": "@jupyter-widgets/controls",
     "model_module_version": "1.5.0",
     "model_name": "ProgressStyleModel",
     "state": {
      "_model_module": "@jupyter-widgets/controls",
      "_model_module_version": "1.5.0",
      "_model_name": "ProgressStyleModel",
      "_view_count": null,
      "_view_module": "@jupyter-widgets/base",
      "_view_module_version": "1.2.0",
      "_view_name": "StyleView",
      "bar_color": null,
      "description_width": ""
     }
    },
    "694b9696b9dd449cad29b762e0522130": {
     "model_module": "@jupyter-widgets/controls",
     "model_module_version": "1.5.0",
     "model_name": "HTMLModel",
     "state": {
      "_dom_classes": [],
      "_model_module": "@jupyter-widgets/controls",
      "_model_module_version": "1.5.0",
      "_model_name": "HTMLModel",
      "_view_count": null,
      "_view_module": "@jupyter-widgets/controls",
      "_view_module_version": "1.5.0",
      "_view_name": "HTMLView",
      "description": "",
      "description_tooltip": null,
      "layout": "IPY_MODEL_3c1ea8cd89da438aa7106fd1620579fc",
      "placeholder": "​",
      "style": "IPY_MODEL_a5ab7ad6711447bd8163e0f57c367095",
      "value": " 1.04G/1.04G [00:29&lt;00:00, 40.5MB/s]"
     }
    },
    "84f33eef9ab147d3b9af5fb5fed9b263": {
     "model_module": "@jupyter-widgets/base",
     "model_module_version": "1.2.0",
     "model_name": "LayoutModel",
     "state": {
      "_model_module": "@jupyter-widgets/base",
      "_model_module_version": "1.2.0",
      "_model_name": "LayoutModel",
      "_view_count": null,
      "_view_module": "@jupyter-widgets/base",
      "_view_module_version": "1.2.0",
      "_view_name": "LayoutView",
      "align_content": null,
      "align_items": null,
      "align_self": null,
      "border": null,
      "bottom": null,
      "display": null,
      "flex": null,
      "flex_flow": null,
      "grid_area": null,
      "grid_auto_columns": null,
      "grid_auto_flow": null,
      "grid_auto_rows": null,
      "grid_column": null,
      "grid_gap": null,
      "grid_row": null,
      "grid_template_areas": null,
      "grid_template_columns": null,
      "grid_template_rows": null,
      "height": null,
      "justify_content": null,
      "justify_items": null,
      "left": null,
      "margin": null,
      "max_height": null,
      "max_width": null,
      "min_height": null,
      "min_width": null,
      "object_fit": null,
      "object_position": null,
      "order": null,
      "overflow": null,
      "overflow_x": null,
      "overflow_y": null,
      "padding": null,
      "right": null,
      "top": null,
      "visibility": null,
      "width": null
     }
    },
    "854aae9eed304b5abc9b1293f15ef4c2": {
     "model_module": "@jupyter-widgets/controls",
     "model_module_version": "1.5.0",
     "model_name": "DescriptionStyleModel",
     "state": {
      "_model_module": "@jupyter-widgets/controls",
      "_model_module_version": "1.5.0",
      "_model_name": "DescriptionStyleModel",
      "_view_count": null,
      "_view_module": "@jupyter-widgets/base",
      "_view_module_version": "1.2.0",
      "_view_name": "StyleView",
      "description_width": ""
     }
    },
    "8a111605b0304b0384e5de2e57289127": {
     "model_module": "@jupyter-widgets/controls",
     "model_module_version": "1.5.0",
     "model_name": "DescriptionStyleModel",
     "state": {
      "_model_module": "@jupyter-widgets/controls",
      "_model_module_version": "1.5.0",
      "_model_name": "DescriptionStyleModel",
      "_view_count": null,
      "_view_module": "@jupyter-widgets/base",
      "_view_module_version": "1.2.0",
      "_view_name": "StyleView",
      "description_width": ""
     }
    },
    "8eba5cb93c2a4f8da24d670b1872ab79": {
     "model_module": "@jupyter-widgets/controls",
     "model_module_version": "1.5.0",
     "model_name": "HBoxModel",
     "state": {
      "_dom_classes": [],
      "_model_module": "@jupyter-widgets/controls",
      "_model_module_version": "1.5.0",
      "_model_name": "HBoxModel",
      "_view_count": null,
      "_view_module": "@jupyter-widgets/controls",
      "_view_module_version": "1.5.0",
      "_view_name": "HBoxView",
      "box_style": "",
      "children": [
       "IPY_MODEL_d8292be982b54a6bac73eb46fdd4a98c",
       "IPY_MODEL_ac0f1e01186e4b5e994fdca41562ce06",
       "IPY_MODEL_a774c2ddaa04417399f4c70d1f860b2b"
      ],
      "layout": "IPY_MODEL_0d893669e3e84ee3963f50e85acce862"
     }
    },
    "9faeef9553b54d8684ebb556b1ccd9ea": {
     "model_module": "@jupyter-widgets/controls",
     "model_module_version": "1.5.0",
     "model_name": "HBoxModel",
     "state": {
      "_dom_classes": [],
      "_model_module": "@jupyter-widgets/controls",
      "_model_module_version": "1.5.0",
      "_model_name": "HBoxModel",
      "_view_count": null,
      "_view_module": "@jupyter-widgets/controls",
      "_view_module_version": "1.5.0",
      "_view_name": "HBoxView",
      "box_style": "",
      "children": [
       "IPY_MODEL_01a62d55af2b4dca833252d1e575b2fa",
       "IPY_MODEL_a11f6ca3273e4009b368b8d639068152",
       "IPY_MODEL_694b9696b9dd449cad29b762e0522130"
      ],
      "layout": "IPY_MODEL_d82e4fb5b8384606bea7f37bdd21bc35"
     }
    },
    "a11f6ca3273e4009b368b8d639068152": {
     "model_module": "@jupyter-widgets/controls",
     "model_module_version": "1.5.0",
     "model_name": "FloatProgressModel",
     "state": {
      "_dom_classes": [],
      "_model_module": "@jupyter-widgets/controls",
      "_model_module_version": "1.5.0",
      "_model_name": "FloatProgressModel",
      "_view_count": null,
      "_view_module": "@jupyter-widgets/controls",
      "_view_module_version": "1.5.0",
      "_view_name": "ProgressView",
      "bar_style": "success",
      "description": "",
      "description_tooltip": null,
      "layout": "IPY_MODEL_b8890cb7584e42ebb93b83969843f474",
      "max": 1115590446,
      "min": 0,
      "orientation": "horizontal",
      "style": "IPY_MODEL_efad42d7280e4644b36b3ee4a69336cb",
      "value": 1115590446
     }
    },
    "a5ab7ad6711447bd8163e0f57c367095": {
     "model_module": "@jupyter-widgets/controls",
     "model_module_version": "1.5.0",
     "model_name": "DescriptionStyleModel",
     "state": {
      "_model_module": "@jupyter-widgets/controls",
      "_model_module_version": "1.5.0",
      "_model_name": "DescriptionStyleModel",
      "_view_count": null,
      "_view_module": "@jupyter-widgets/base",
      "_view_module_version": "1.2.0",
      "_view_name": "StyleView",
      "description_width": ""
     }
    },
    "a774c2ddaa04417399f4c70d1f860b2b": {
     "model_module": "@jupyter-widgets/controls",
     "model_module_version": "1.5.0",
     "model_name": "HTMLModel",
     "state": {
      "_dom_classes": [],
      "_model_module": "@jupyter-widgets/controls",
      "_model_module_version": "1.5.0",
      "_model_name": "HTMLModel",
      "_view_count": null,
      "_view_module": "@jupyter-widgets/controls",
      "_view_module_version": "1.5.0",
      "_view_name": "HTMLView",
      "description": "",
      "description_tooltip": null,
      "layout": "IPY_MODEL_84f33eef9ab147d3b9af5fb5fed9b263",
      "placeholder": "​",
      "style": "IPY_MODEL_e30b2944208946d1b8be661bd702e78a",
      "value": " 8.68M/8.68M [00:00&lt;00:00, 30.5MB/s]"
     }
    },
    "a832c4e14e60423b9edb8b4a01e934ec": {
     "model_module": "@jupyter-widgets/base",
     "model_module_version": "1.2.0",
     "model_name": "LayoutModel",
     "state": {
      "_model_module": "@jupyter-widgets/base",
      "_model_module_version": "1.2.0",
      "_model_name": "LayoutModel",
      "_view_count": null,
      "_view_module": "@jupyter-widgets/base",
      "_view_module_version": "1.2.0",
      "_view_name": "LayoutView",
      "align_content": null,
      "align_items": null,
      "align_self": null,
      "border": null,
      "bottom": null,
      "display": null,
      "flex": null,
      "flex_flow": null,
      "grid_area": null,
      "grid_auto_columns": null,
      "grid_auto_flow": null,
      "grid_auto_rows": null,
      "grid_column": null,
      "grid_gap": null,
      "grid_row": null,
      "grid_template_areas": null,
      "grid_template_columns": null,
      "grid_template_rows": null,
      "height": null,
      "justify_content": null,
      "justify_items": null,
      "left": null,
      "margin": null,
      "max_height": null,
      "max_width": null,
      "min_height": null,
      "min_width": null,
      "object_fit": null,
      "object_position": null,
      "order": null,
      "overflow": null,
      "overflow_x": null,
      "overflow_y": null,
      "padding": null,
      "right": null,
      "top": null,
      "visibility": null,
      "width": null
     }
    },
    "a859daa78be946b7bab0e03b26ed4d77": {
     "model_module": "@jupyter-widgets/controls",
     "model_module_version": "1.5.0",
     "model_name": "DescriptionStyleModel",
     "state": {
      "_model_module": "@jupyter-widgets/controls",
      "_model_module_version": "1.5.0",
      "_model_name": "DescriptionStyleModel",
      "_view_count": null,
      "_view_module": "@jupyter-widgets/base",
      "_view_module_version": "1.2.0",
      "_view_name": "StyleView",
      "description_width": ""
     }
    },
    "ac0f1e01186e4b5e994fdca41562ce06": {
     "model_module": "@jupyter-widgets/controls",
     "model_module_version": "1.5.0",
     "model_name": "FloatProgressModel",
     "state": {
      "_dom_classes": [],
      "_model_module": "@jupyter-widgets/controls",
      "_model_module_version": "1.5.0",
      "_model_name": "FloatProgressModel",
      "_view_count": null,
      "_view_module": "@jupyter-widgets/controls",
      "_view_module_version": "1.5.0",
      "_view_name": "ProgressView",
      "bar_style": "success",
      "description": "",
      "description_tooltip": null,
      "layout": "IPY_MODEL_f49275687d834c2fb757b95f78407e26",
      "max": 9096718,
      "min": 0,
      "orientation": "horizontal",
      "style": "IPY_MODEL_6025d1aa2d0e4603859c6d232803ddf9",
      "value": 9096718
     }
    },
    "b5036a1e53f543e5ba5e1cc30feed6ac": {
     "model_module": "@jupyter-widgets/controls",
     "model_module_version": "1.5.0",
     "model_name": "HBoxModel",
     "state": {
      "_dom_classes": [],
      "_model_module": "@jupyter-widgets/controls",
      "_model_module_version": "1.5.0",
      "_model_name": "HBoxModel",
      "_view_count": null,
      "_view_module": "@jupyter-widgets/controls",
      "_view_module_version": "1.5.0",
      "_view_name": "HBoxView",
      "box_style": "",
      "children": [
       "IPY_MODEL_397048838bdd47c99db26bd7ce676081",
       "IPY_MODEL_261d8a1c8d4d46ab9c77e2bb1da0d785",
       "IPY_MODEL_564a20d5e33a413e81115921a97ffcbc"
      ],
      "layout": "IPY_MODEL_a832c4e14e60423b9edb8b4a01e934ec"
     }
    },
    "b8890cb7584e42ebb93b83969843f474": {
     "model_module": "@jupyter-widgets/base",
     "model_module_version": "1.2.0",
     "model_name": "LayoutModel",
     "state": {
      "_model_module": "@jupyter-widgets/base",
      "_model_module_version": "1.2.0",
      "_model_name": "LayoutModel",
      "_view_count": null,
      "_view_module": "@jupyter-widgets/base",
      "_view_module_version": "1.2.0",
      "_view_name": "LayoutView",
      "align_content": null,
      "align_items": null,
      "align_self": null,
      "border": null,
      "bottom": null,
      "display": null,
      "flex": null,
      "flex_flow": null,
      "grid_area": null,
      "grid_auto_columns": null,
      "grid_auto_flow": null,
      "grid_auto_rows": null,
      "grid_column": null,
      "grid_gap": null,
      "grid_row": null,
      "grid_template_areas": null,
      "grid_template_columns": null,
      "grid_template_rows": null,
      "height": null,
      "justify_content": null,
      "justify_items": null,
      "left": null,
      "margin": null,
      "max_height": null,
      "max_width": null,
      "min_height": null,
      "min_width": null,
      "object_fit": null,
      "object_position": null,
      "order": null,
      "overflow": null,
      "overflow_x": null,
      "overflow_y": null,
      "padding": null,
      "right": null,
      "top": null,
      "visibility": null,
      "width": null
     }
    },
    "d8292be982b54a6bac73eb46fdd4a98c": {
     "model_module": "@jupyter-widgets/controls",
     "model_module_version": "1.5.0",
     "model_name": "HTMLModel",
     "state": {
      "_dom_classes": [],
      "_model_module": "@jupyter-widgets/controls",
      "_model_module_version": "1.5.0",
      "_model_name": "HTMLModel",
      "_view_count": null,
      "_view_module": "@jupyter-widgets/controls",
      "_view_module_version": "1.5.0",
      "_view_name": "HTMLView",
      "description": "",
      "description_tooltip": null,
      "layout": "IPY_MODEL_2c07eafaf5ae47e6b0d9092b3a701e1f",
      "placeholder": "​",
      "style": "IPY_MODEL_32f60d26f68b4b31b6cc7cf47c25e8b4",
      "value": "Downloading: 100%"
     }
    },
    "d82e4fb5b8384606bea7f37bdd21bc35": {
     "model_module": "@jupyter-widgets/base",
     "model_module_version": "1.2.0",
     "model_name": "LayoutModel",
     "state": {
      "_model_module": "@jupyter-widgets/base",
      "_model_module_version": "1.2.0",
      "_model_name": "LayoutModel",
      "_view_count": null,
      "_view_module": "@jupyter-widgets/base",
      "_view_module_version": "1.2.0",
      "_view_name": "LayoutView",
      "align_content": null,
      "align_items": null,
      "align_self": null,
      "border": null,
      "bottom": null,
      "display": null,
      "flex": null,
      "flex_flow": null,
      "grid_area": null,
      "grid_auto_columns": null,
      "grid_auto_flow": null,
      "grid_auto_rows": null,
      "grid_column": null,
      "grid_gap": null,
      "grid_row": null,
      "grid_template_areas": null,
      "grid_template_columns": null,
      "grid_template_rows": null,
      "height": null,
      "justify_content": null,
      "justify_items": null,
      "left": null,
      "margin": null,
      "max_height": null,
      "max_width": null,
      "min_height": null,
      "min_width": null,
      "object_fit": null,
      "object_position": null,
      "order": null,
      "overflow": null,
      "overflow_x": null,
      "overflow_y": null,
      "padding": null,
      "right": null,
      "top": null,
      "visibility": null,
      "width": null
     }
    },
    "db7f0aa82d5c41878cf8f85e74566dfc": {
     "model_module": "@jupyter-widgets/base",
     "model_module_version": "1.2.0",
     "model_name": "LayoutModel",
     "state": {
      "_model_module": "@jupyter-widgets/base",
      "_model_module_version": "1.2.0",
      "_model_name": "LayoutModel",
      "_view_count": null,
      "_view_module": "@jupyter-widgets/base",
      "_view_module_version": "1.2.0",
      "_view_name": "LayoutView",
      "align_content": null,
      "align_items": null,
      "align_self": null,
      "border": null,
      "bottom": null,
      "display": null,
      "flex": null,
      "flex_flow": null,
      "grid_area": null,
      "grid_auto_columns": null,
      "grid_auto_flow": null,
      "grid_auto_rows": null,
      "grid_column": null,
      "grid_gap": null,
      "grid_row": null,
      "grid_template_areas": null,
      "grid_template_columns": null,
      "grid_template_rows": null,
      "height": null,
      "justify_content": null,
      "justify_items": null,
      "left": null,
      "margin": null,
      "max_height": null,
      "max_width": null,
      "min_height": null,
      "min_width": null,
      "object_fit": null,
      "object_position": null,
      "order": null,
      "overflow": null,
      "overflow_x": null,
      "overflow_y": null,
      "padding": null,
      "right": null,
      "top": null,
      "visibility": null,
      "width": null
     }
    },
    "dd423643bef6417aa1cc1351011e1e40": {
     "model_module": "@jupyter-widgets/base",
     "model_module_version": "1.2.0",
     "model_name": "LayoutModel",
     "state": {
      "_model_module": "@jupyter-widgets/base",
      "_model_module_version": "1.2.0",
      "_model_name": "LayoutModel",
      "_view_count": null,
      "_view_module": "@jupyter-widgets/base",
      "_view_module_version": "1.2.0",
      "_view_name": "LayoutView",
      "align_content": null,
      "align_items": null,
      "align_self": null,
      "border": null,
      "bottom": null,
      "display": null,
      "flex": null,
      "flex_flow": null,
      "grid_area": null,
      "grid_auto_columns": null,
      "grid_auto_flow": null,
      "grid_auto_rows": null,
      "grid_column": null,
      "grid_gap": null,
      "grid_row": null,
      "grid_template_areas": null,
      "grid_template_columns": null,
      "grid_template_rows": null,
      "height": null,
      "justify_content": null,
      "justify_items": null,
      "left": null,
      "margin": null,
      "max_height": null,
      "max_width": null,
      "min_height": null,
      "min_width": null,
      "object_fit": null,
      "object_position": null,
      "order": null,
      "overflow": null,
      "overflow_x": null,
      "overflow_y": null,
      "padding": null,
      "right": null,
      "top": null,
      "visibility": null,
      "width": null
     }
    },
    "e30b2944208946d1b8be661bd702e78a": {
     "model_module": "@jupyter-widgets/controls",
     "model_module_version": "1.5.0",
     "model_name": "DescriptionStyleModel",
     "state": {
      "_model_module": "@jupyter-widgets/controls",
      "_model_module_version": "1.5.0",
      "_model_name": "DescriptionStyleModel",
      "_view_count": null,
      "_view_module": "@jupyter-widgets/base",
      "_view_module_version": "1.2.0",
      "_view_name": "StyleView",
      "description_width": ""
     }
    },
    "efad42d7280e4644b36b3ee4a69336cb": {
     "model_module": "@jupyter-widgets/controls",
     "model_module_version": "1.5.0",
     "model_name": "ProgressStyleModel",
     "state": {
      "_model_module": "@jupyter-widgets/controls",
      "_model_module_version": "1.5.0",
      "_model_name": "ProgressStyleModel",
      "_view_count": null,
      "_view_module": "@jupyter-widgets/base",
      "_view_module_version": "1.2.0",
      "_view_name": "StyleView",
      "bar_color": null,
      "description_width": ""
     }
    },
    "f0a5590a7b584bee9d6f48a77ee736fb": {
     "model_module": "@jupyter-widgets/base",
     "model_module_version": "1.2.0",
     "model_name": "LayoutModel",
     "state": {
      "_model_module": "@jupyter-widgets/base",
      "_model_module_version": "1.2.0",
      "_model_name": "LayoutModel",
      "_view_count": null,
      "_view_module": "@jupyter-widgets/base",
      "_view_module_version": "1.2.0",
      "_view_name": "LayoutView",
      "align_content": null,
      "align_items": null,
      "align_self": null,
      "border": null,
      "bottom": null,
      "display": null,
      "flex": null,
      "flex_flow": null,
      "grid_area": null,
      "grid_auto_columns": null,
      "grid_auto_flow": null,
      "grid_auto_rows": null,
      "grid_column": null,
      "grid_gap": null,
      "grid_row": null,
      "grid_template_areas": null,
      "grid_template_columns": null,
      "grid_template_rows": null,
      "height": null,
      "justify_content": null,
      "justify_items": null,
      "left": null,
      "margin": null,
      "max_height": null,
      "max_width": null,
      "min_height": null,
      "min_width": null,
      "object_fit": null,
      "object_position": null,
      "order": null,
      "overflow": null,
      "overflow_x": null,
      "overflow_y": null,
      "padding": null,
      "right": null,
      "top": null,
      "visibility": null,
      "width": null
     }
    },
    "f49275687d834c2fb757b95f78407e26": {
     "model_module": "@jupyter-widgets/base",
     "model_module_version": "1.2.0",
     "model_name": "LayoutModel",
     "state": {
      "_model_module": "@jupyter-widgets/base",
      "_model_module_version": "1.2.0",
      "_model_name": "LayoutModel",
      "_view_count": null,
      "_view_module": "@jupyter-widgets/base",
      "_view_module_version": "1.2.0",
      "_view_name": "LayoutView",
      "align_content": null,
      "align_items": null,
      "align_self": null,
      "border": null,
      "bottom": null,
      "display": null,
      "flex": null,
      "flex_flow": null,
      "grid_area": null,
      "grid_auto_columns": null,
      "grid_auto_flow": null,
      "grid_auto_rows": null,
      "grid_column": null,
      "grid_gap": null,
      "grid_row": null,
      "grid_template_areas": null,
      "grid_template_columns": null,
      "grid_template_rows": null,
      "height": null,
      "justify_content": null,
      "justify_items": null,
      "left": null,
      "margin": null,
      "max_height": null,
      "max_width": null,
      "min_height": null,
      "min_width": null,
      "object_fit": null,
      "object_position": null,
      "order": null,
      "overflow": null,
      "overflow_x": null,
      "overflow_y": null,
      "padding": null,
      "right": null,
      "top": null,
      "visibility": null,
      "width": null
     }
    }
   }
  }
 },
 "nbformat": 4,
 "nbformat_minor": 1
}
