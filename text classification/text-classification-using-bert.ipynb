{
 "cells": [
  {
   "cell_type": "code",
   "execution_count": 1,
   "metadata": {
    "_cell_guid": "b1076dfc-b9ad-4769-8c92-a6c4dae69d19",
    "_uuid": "8f2839f25d086af736a60e9eeb907d3b93b6e0e5"
   },
   "outputs": [
    {
     "name": "stderr",
     "output_type": "stream",
     "text": [
      "\u001b[34m\u001b[1mwandb\u001b[0m: \u001b[33mWARNING\u001b[0m W&B installed but not logged in.  Run `wandb login` or set the WANDB_API_KEY env variable.\n"
     ]
    }
   ],
   "source": [
    "import transformers\n",
    "from transformers import BertModel, BertTokenizer, AdamW, get_linear_schedule_with_warmup\n",
    "\n",
    "import torch\n",
    "from torch import nn, optim\n",
    "from torch.utils.data import Dataset, DataLoader\n",
    "import torch.nn.functional as F\n",
    "\n",
    "\n",
    "import numpy as np\n",
    "import pandas as pd\n",
    "import seaborn as sns\n",
    "from pylab import rcParams\n",
    "import matplotlib.pyplot as plt\n",
    "from matplotlib import rc\n",
    "\n",
    "\n",
    "from sklearn.model_selection import train_test_split\n",
    "from sklearn.preprocessing import LabelEncoder\n",
    "from sklearn.metrics import confusion_matrix, classification_report\n",
    "from collections import defaultdict\n",
    "from textwrap import wrap\n",
    "\n",
    "from tqdm import tqdm\n",
    "\n",
    "\n",
    "%matplotlib inline\n",
    "%config InlineBackend.figure_format='retina'\n",
    "\n",
    "sns.set(style='whitegrid', palette='muted', font_scale=1.2)\n",
    "HAPPY_COLORS_PALETTE = [\"#01BEFE\", \"#FFDD00\", \"#FF7D00\", \"#FF006D\", \"#ADFF02\", \"#8F00FF\"]\n",
    "\n",
    "sns.set_palette(sns.color_palette(HAPPY_COLORS_PALETTE))\n",
    "rcParams['figure.figsize'] = 12, 8\n",
    "\n",
    "RANDOM_SEED = 23\n",
    "np.random.seed(RANDOM_SEED)\n",
    "\n",
    "torch.manual_seed(RANDOM_SEED)\n",
    "device = torch.device(\"cuda:0\" if torch.cuda.is_available() else \"cpu\")"
   ]
  },
  {
   "cell_type": "code",
   "execution_count": 2,
   "metadata": {},
   "outputs": [],
   "source": [
    "!pip freeze > requirements.txt"
   ]
  },
  {
   "cell_type": "code",
   "execution_count": 3,
   "metadata": {
    "_cell_guid": "79c7e3d0-c299-4dcb-8224-4455121ee9b0",
    "_uuid": "d629ff2d2480ee46fbb7e2d37f6b5fab8052498a"
   },
   "outputs": [],
   "source": [
    "data = pd.read_json('../input/news-category-dataset/News_Category_Dataset_v2.json', lines=True)\n",
    "data.head()\n",
    "\n",
    "data = data.sample(n=1000)"
   ]
  },
  {
   "cell_type": "code",
   "execution_count": 4,
   "metadata": {},
   "outputs": [
    {
     "data": {
      "text/plain": [
       "array(['BLACK VOICES', 'GREEN', 'ENTERTAINMENT', 'IMPACT',\n",
       "       'HEALTHY LIVING', 'QUEER VOICES', 'DIVORCE', 'SPORTS',\n",
       "       'ARTS & CULTURE', 'POLITICS', 'MEDIA', 'THE WORLDPOST', 'WEDDINGS',\n",
       "       'WELLNESS', 'PARENTS', 'COLLEGE', 'GOOD NEWS', 'BUSINESS',\n",
       "       'FOOD & DRINK', 'WORLDPOST', 'RELIGION', 'STYLE', 'FIFTY',\n",
       "       'TRAVEL', 'HOME & LIVING', 'SCIENCE', 'WOMEN', 'CRIME', 'TECH',\n",
       "       'COMEDY', 'ARTS', 'ENVIRONMENT', 'EDUCATION', 'WORLD NEWS',\n",
       "       'STYLE & BEAUTY', 'PARENTING', 'LATINO VOICES', 'WEIRD NEWS',\n",
       "       'TASTE', 'CULTURE & ARTS', 'MONEY'], dtype=object)"
      ]
     },
     "execution_count": 4,
     "metadata": {},
     "output_type": "execute_result"
    }
   ],
   "source": [
    "data.category.unique()"
   ]
  },
  {
   "cell_type": "code",
   "execution_count": 5,
   "metadata": {},
   "outputs": [],
   "source": [
    "text = pd.DataFrame({\n",
    "    'text':data.headline + data.short_description,\n",
    "    'label':data.category\n",
    "})"
   ]
  },
  {
   "cell_type": "code",
   "execution_count": 6,
   "metadata": {},
   "outputs": [
    {
     "data": {
      "text/html": [
       "<div>\n",
       "<style scoped>\n",
       "    .dataframe tbody tr th:only-of-type {\n",
       "        vertical-align: middle;\n",
       "    }\n",
       "\n",
       "    .dataframe tbody tr th {\n",
       "        vertical-align: top;\n",
       "    }\n",
       "\n",
       "    .dataframe thead th {\n",
       "        text-align: right;\n",
       "    }\n",
       "</style>\n",
       "<table border=\"1\" class=\"dataframe\">\n",
       "  <thead>\n",
       "    <tr style=\"text-align: right;\">\n",
       "      <th></th>\n",
       "      <th>text</th>\n",
       "      <th>label</th>\n",
       "    </tr>\n",
       "  </thead>\n",
       "  <tbody>\n",
       "    <tr>\n",
       "      <th>67604</th>\n",
       "      <td>Don Cheadle Is Miles Davis In 'Miles Ahead' Tr...</td>\n",
       "      <td>BLACK VOICES</td>\n",
       "    </tr>\n",
       "    <tr>\n",
       "      <th>151101</th>\n",
       "      <td>I Don't See Murder HereContrary to what George...</td>\n",
       "      <td>BLACK VOICES</td>\n",
       "    </tr>\n",
       "    <tr>\n",
       "      <th>103267</th>\n",
       "      <td>2015 Climate Change ForecastI'm pretty sure th...</td>\n",
       "      <td>GREEN</td>\n",
       "    </tr>\n",
       "    <tr>\n",
       "      <th>5159</th>\n",
       "      <td>Mark Hamill Confirms Hollywood Star News By Zi...</td>\n",
       "      <td>ENTERTAINMENT</td>\n",
       "    </tr>\n",
       "    <tr>\n",
       "      <th>101069</th>\n",
       "      <td>MTV's Bold MLK Day Move Will Be One You Won't ...</td>\n",
       "      <td>BLACK VOICES</td>\n",
       "    </tr>\n",
       "  </tbody>\n",
       "</table>\n",
       "</div>"
      ],
      "text/plain": [
       "                                                     text          label\n",
       "67604   Don Cheadle Is Miles Davis In 'Miles Ahead' Tr...   BLACK VOICES\n",
       "151101  I Don't See Murder HereContrary to what George...   BLACK VOICES\n",
       "103267  2015 Climate Change ForecastI'm pretty sure th...          GREEN\n",
       "5159    Mark Hamill Confirms Hollywood Star News By Zi...  ENTERTAINMENT\n",
       "101069  MTV's Bold MLK Day Move Will Be One You Won't ...   BLACK VOICES"
      ]
     },
     "execution_count": 6,
     "metadata": {},
     "output_type": "execute_result"
    }
   ],
   "source": [
    "text.head()"
   ]
  },
  {
   "cell_type": "code",
   "execution_count": 7,
   "metadata": {},
   "outputs": [
    {
     "data": {
      "text/html": [
       "<div>\n",
       "<style scoped>\n",
       "    .dataframe tbody tr th:only-of-type {\n",
       "        vertical-align: middle;\n",
       "    }\n",
       "\n",
       "    .dataframe tbody tr th {\n",
       "        vertical-align: top;\n",
       "    }\n",
       "\n",
       "    .dataframe thead th {\n",
       "        text-align: right;\n",
       "    }\n",
       "</style>\n",
       "<table border=\"1\" class=\"dataframe\">\n",
       "  <thead>\n",
       "    <tr style=\"text-align: right;\">\n",
       "      <th></th>\n",
       "      <th>text</th>\n",
       "      <th>label</th>\n",
       "    </tr>\n",
       "  </thead>\n",
       "  <tbody>\n",
       "    <tr>\n",
       "      <th>67604</th>\n",
       "      <td>Don Cheadle Is Miles Davis In 'Miles Ahead' Tr...</td>\n",
       "      <td>2</td>\n",
       "    </tr>\n",
       "    <tr>\n",
       "      <th>151101</th>\n",
       "      <td>I Don't See Murder HereContrary to what George...</td>\n",
       "      <td>2</td>\n",
       "    </tr>\n",
       "    <tr>\n",
       "      <th>103267</th>\n",
       "      <td>2015 Climate Change ForecastI'm pretty sure th...</td>\n",
       "      <td>15</td>\n",
       "    </tr>\n",
       "    <tr>\n",
       "      <th>5159</th>\n",
       "      <td>Mark Hamill Confirms Hollywood Star News By Zi...</td>\n",
       "      <td>10</td>\n",
       "    </tr>\n",
       "    <tr>\n",
       "      <th>101069</th>\n",
       "      <td>MTV's Bold MLK Day Move Will Be One You Won't ...</td>\n",
       "      <td>2</td>\n",
       "    </tr>\n",
       "  </tbody>\n",
       "</table>\n",
       "</div>"
      ],
      "text/plain": [
       "                                                     text  label\n",
       "67604   Don Cheadle Is Miles Davis In 'Miles Ahead' Tr...      2\n",
       "151101  I Don't See Murder HereContrary to what George...      2\n",
       "103267  2015 Climate Change ForecastI'm pretty sure th...     15\n",
       "5159    Mark Hamill Confirms Hollywood Star News By Zi...     10\n",
       "101069  MTV's Bold MLK Day Move Will Be One You Won't ...      2"
      ]
     },
     "execution_count": 7,
     "metadata": {},
     "output_type": "execute_result"
    }
   ],
   "source": [
    "encoder = LabelEncoder()\n",
    "text.label = encoder.fit_transform(text.label)\n",
    "\n",
    "text.head()"
   ]
  },
  {
   "cell_type": "code",
   "execution_count": 8,
   "metadata": {},
   "outputs": [],
   "source": [
    "train, test = train_test_split(text, test_size=0.1, random_state=23)\n",
    "train, val = train_test_split(train, test_size=0.3,random_state=23)"
   ]
  },
  {
   "cell_type": "code",
   "execution_count": 9,
   "metadata": {},
   "outputs": [],
   "source": [
    "# train.reset_index(drop=True, inplace=True)\n",
    "# val.reset_index(drop=True, inplace=True)\n",
    "# test.reset_index(drop=True, inplace=True)"
   ]
  },
  {
   "cell_type": "code",
   "execution_count": 10,
   "metadata": {},
   "outputs": [],
   "source": [
    "# test.drop('label', 1, inplace=True)"
   ]
  },
  {
   "cell_type": "markdown",
   "execution_count": null,
   "metadata": {},
   "source": [
    "## Tokenisation or data-preprocessing"
   ]
  },
  {
   "cell_type": "code",
   "execution_count": 11,
   "metadata": {},
   "outputs": [],
   "source": [
    "PRE_TRAINED_MODEL_NAME = 'bert-base-cased'"
   ]
  },
  {
   "cell_type": "code",
   "execution_count": 12,
   "metadata": {},
   "outputs": [
    {
     "data": {
      "application/vnd.jupyter.widget-view+json": {
       "model_id": "41fc1bd4ec7e407f8c44d673be070d2c",
       "version_major": 2,
       "version_minor": 0
      },
      "text/plain": [
       "HBox(children=(FloatProgress(value=0.0, description='Downloading', max=213450.0, style=ProgressStyle(descripti…"
      ]
     },
     "metadata": {},
     "output_type": "display_data"
    },
    {
     "name": "stdout",
     "output_type": "stream",
     "text": [
      "\n"
     ]
    }
   ],
   "source": [
    "tokenizer = BertTokenizer.from_pretrained(PRE_TRAINED_MODEL_NAME)"
   ]
  },
  {
   "cell_type": "markdown",
   "execution_count": null,
   "metadata": {},
   "source": [
    "### Sample Test\n",
    "\n",
    "The idea is to preserve the purity of the sentence and not to convert it into all lower cases and vise-versa."
   ]
  },
  {
   "cell_type": "code",
   "execution_count": 13,
   "metadata": {},
   "outputs": [
    {
     "name": "stdout",
     "output_type": "stream",
     "text": [
      " Sentence: So give me reason to prove me wrong to wash this memory clean. Let the flood the cross the distance in your eyes.\n",
      "   Tokens: ['So', 'give', 'me', 'reason', 'to', 'prove', 'me', 'wrong', 'to', 'wash', 'this', 'memory', 'clean', '.', 'Let', 'the', 'flood', 'the', 'cross', 'the', 'distance', 'in', 'your', 'eyes', '.']\n",
      "Token IDs: [1573, 1660, 1143, 2255, 1106, 5424, 1143, 2488, 1106, 10124, 1142, 2962, 4044, 119, 2421, 1103, 7870, 1103, 2771, 1103, 2462, 1107, 1240, 1257, 119]\n"
     ]
    }
   ],
   "source": [
    "sample_txt = 'So give me reason to prove me wrong to wash this memory clean. Let the flood the cross the distance in your eyes.'\n",
    "\n",
    "tokens = tokenizer.tokenize(sample_txt)\n",
    "\n",
    "token_ids = tokenizer.convert_tokens_to_ids(tokens)\n",
    "\n",
    "print(f' Sentence: {sample_txt}')\n",
    "print(f'   Tokens: {tokens}')\n",
    "print(f'Token IDs: {token_ids}')"
   ]
  },
  {
   "cell_type": "markdown",
   "execution_count": null,
   "metadata": {},
   "source": [
    "Bert uses special tokens to navigate through the training process. The tokens include:\n",
    "1. Unknown\n",
    "2. Seperate\n",
    "3. Padding\n",
    "4. Class\n",
    "5. Mask"
   ]
  },
  {
   "cell_type": "code",
   "execution_count": 14,
   "metadata": {},
   "outputs": [
    {
     "data": {
      "text/plain": [
       "{'unk_token': '[UNK]',\n",
       " 'sep_token': '[SEP]',\n",
       " 'pad_token': '[PAD]',\n",
       " 'cls_token': '[CLS]',\n",
       " 'mask_token': '[MASK]'}"
      ]
     },
     "execution_count": 14,
     "metadata": {},
     "output_type": "execute_result"
    }
   ],
   "source": [
    "tokenizer.special_tokens_map"
   ]
  },
  {
   "cell_type": "code",
   "execution_count": 15,
   "metadata": {},
   "outputs": [
    {
     "data": {
      "text/plain": [
       "dict_keys(['input_ids', 'attention_mask'])"
      ]
     },
     "execution_count": 15,
     "metadata": {},
     "output_type": "execute_result"
    }
   ],
   "source": [
    "encoding = tokenizer.encode_plus(\n",
    "  sample_txt,\n",
    "  max_length=32,\n",
    "  add_special_tokens=True, # Add '[CLS]' and '[SEP]'\n",
    "  return_token_type_ids=False,\n",
    "  pad_to_max_length=True,\n",
    "  return_attention_mask=True,\n",
    "  return_tensors='pt',  # Return PyTorch tensors\n",
    ")\n",
    "\n",
    "\n",
    "encoding.keys()\n",
    "\n"
   ]
  },
  {
   "cell_type": "code",
   "execution_count": 16,
   "metadata": {},
   "outputs": [
    {
     "data": {
      "text/plain": [
       "['[CLS]',\n",
       " 'So',\n",
       " 'give',\n",
       " 'me',\n",
       " 'reason',\n",
       " 'to',\n",
       " 'prove',\n",
       " 'me',\n",
       " 'wrong',\n",
       " 'to',\n",
       " 'wash',\n",
       " 'this',\n",
       " 'memory',\n",
       " 'clean',\n",
       " '.',\n",
       " 'Let',\n",
       " 'the',\n",
       " 'flood',\n",
       " 'the',\n",
       " 'cross',\n",
       " 'the',\n",
       " 'distance',\n",
       " 'in',\n",
       " 'your',\n",
       " 'eyes',\n",
       " '.',\n",
       " '[SEP]',\n",
       " '[PAD]',\n",
       " '[PAD]',\n",
       " '[PAD]',\n",
       " '[PAD]',\n",
       " '[PAD]']"
      ]
     },
     "execution_count": 16,
     "metadata": {},
     "output_type": "execute_result"
    }
   ],
   "source": [
    "tokenizer.convert_ids_to_tokens(encoding['input_ids'][0])"
   ]
  },
  {
   "cell_type": "code",
   "execution_count": 17,
   "metadata": {},
   "outputs": [],
   "source": [
    "class Tokenisation(Dataset):\n",
    "    \n",
    "    \n",
    "    def __init__(self, data, targets, tokenizer, max_len):\n",
    "        self.data = data\n",
    "        self.targets = targets\n",
    "        self.tokenizer = tokenizer\n",
    "        self.max_len = max_len\n",
    "        self.pad_vid = self.tokenizer.vocab[\"[PAD]\"]\n",
    "        \n",
    "        \n",
    "    def __len__(self):\n",
    "        return len(self.data)\n",
    "    \n",
    "    def __getitem__(self, item):\n",
    "        data = str(self.data[item])\n",
    "        data = \" \".join(data.split())\n",
    "        target = self.targets\n",
    "        \n",
    "        encoding = self.tokenizer.encode_plus(\n",
    "          data,\n",
    "          add_special_tokens=True,\n",
    "          max_length=self.max_len,\n",
    "          return_token_type_ids=False,\n",
    "          pad_to_max_length=True,\n",
    "          return_attention_mask=True,\n",
    "          return_tensors='pt',\n",
    "        )\n",
    "        \n",
    "        ids = encoding['input_ids']\n",
    "        masks = encoding['attention_mask']\n",
    "        token_type_ids = encoding['input_ids']\n",
    "        \n",
    "        true_seq_length = len(encoding['input_ids'][0])\n",
    "        pad_size = self.max_len - true_seq_length\n",
    "        pad_ids = torch.Tensor([self.pad_vid] * pad_size).long()\n",
    "        ids = torch.cat((encoding['input_ids'][0], pad_ids))\n",
    "        \n",
    "        \n",
    "#         padding_len = self.max_len - len(ids)\n",
    "#         ids = ids + ([0] * padding_len)\n",
    "#         masks = ids + ([0] * padding_len)\n",
    "#         token_type_ids = token_type_ids + ([0] * padding_len)\n",
    "        \n",
    "        return {\n",
    "          'text': data,\n",
    "          'input_ids': ids.flatten(),\n",
    "          'attention_mask': encoding['attention_mask'].flatten(),\n",
    "          'targets': torch.tensor(target[item], dtype=torch.long)\n",
    "        }"
   ]
  },
  {
   "cell_type": "code",
   "execution_count": 18,
   "metadata": {},
   "outputs": [],
   "source": [
    "def dataLoader(df, tokenizer, max_len, batch_size):\n",
    "    ds = Tokenisation(\n",
    "    data=df['text'].to_numpy(),\n",
    "    targets=df['label'].to_numpy(),\n",
    "    tokenizer=tokenizer,\n",
    "    max_len=max_len\n",
    "    )\n",
    "    return DataLoader(ds,batch_size=batch_size, num_workers=4)"
   ]
  },
  {
   "cell_type": "code",
   "execution_count": 19,
   "metadata": {},
   "outputs": [],
   "source": [
    "BATCH_SIZE = 16\n",
    "MAX_LEN = 128\n",
    "\n",
    "train_data_loader = dataLoader(train, tokenizer, MAX_LEN, BATCH_SIZE)\n",
    "val_data_loader = dataLoader(val, tokenizer, MAX_LEN, BATCH_SIZE)\n",
    "test_data_loader = dataLoader(test, tokenizer, MAX_LEN, BATCH_SIZE)"
   ]
  },
  {
   "cell_type": "code",
   "execution_count": 20,
   "metadata": {},
   "outputs": [
    {
     "data": {
      "text/plain": [
       "dict_keys(['text', 'input_ids', 'attention_mask', 'targets'])"
      ]
     },
     "execution_count": 20,
     "metadata": {},
     "output_type": "execute_result"
    }
   ],
   "source": [
    "data = next(iter(train_data_loader))\n",
    "data.keys()"
   ]
  },
  {
   "cell_type": "code",
   "execution_count": 21,
   "metadata": {},
   "outputs": [
    {
     "name": "stdout",
     "output_type": "stream",
     "text": [
      "torch.Size([16, 128])\n",
      "torch.Size([16, 128])\n",
      "torch.Size([16])\n"
     ]
    }
   ],
   "source": [
    "print(data['input_ids'].shape)\n",
    "print(data['attention_mask'].shape)\n",
    "print(data['targets'].shape)"
   ]
  },
  {
   "cell_type": "markdown",
   "execution_count": null,
   "metadata": {},
   "source": [
    "## Building the model"
   ]
  },
  {
   "cell_type": "code",
   "execution_count": 22,
   "metadata": {},
   "outputs": [],
   "source": [
    "class TextClassifier(nn.Module):\n",
    "    \n",
    "    def __init__(self, n_classes):\n",
    "        super(TextClassifier, self).__init__()\n",
    "        self.bert = BertModel.from_pretrained(PRE_TRAINED_MODEL_NAME)\n",
    "        self.drop = nn.Dropout(p=0.3)\n",
    "        self.out = nn.Linear(self.bert.config.hidden_size, n_classes)\n",
    "            \n",
    "    \n",
    "    def forward(self, input_ids, attention_mask):\n",
    "        _, pooled_output = self.bert(\n",
    "          input_ids=input_ids,\n",
    "          attention_mask=attention_mask\n",
    "        )\n",
    "        output = self.drop(pooled_output)\n",
    "        return self.out(output)\n",
    "    \n",
    "    def unfreeze(self,start_layer,end_layer):\n",
    "        def children(m):\n",
    "            return m if isinstance(m, (list, tuple)) else list(m.children())\n",
    "        def set_trainable_attr(m, b):\n",
    "            m.trainable = b\n",
    "            for p in m.parameters():\n",
    "                p.requires_grad = b\n",
    "        def apply_leaf(m, f):\n",
    "            c = children(m)\n",
    "            if isinstance(m, nn.Module):\n",
    "                f(m)\n",
    "            if len(c) > 0:\n",
    "                for l in c:\n",
    "                    apply_leaf(l, f)\n",
    "        def set_trainable(l, b):\n",
    "            apply_leaf(l, lambda m: set_trainable_attr(m, b))\n",
    "\n",
    "        # You can unfreeze the last layer of bert by calling set_trainable(model.bert.encoder.layer[23], True)\n",
    "        set_trainable(self.bert, False)\n",
    "        for i in range(start_layer, end_layer+1):\n",
    "            set_trainable(self.bert.encoder.layer[i], True)"
   ]
  },
  {
   "cell_type": "code",
   "execution_count": 23,
   "metadata": {},
   "outputs": [
    {
     "data": {
      "text/plain": [
       "device(type='cuda', index=0)"
      ]
     },
     "execution_count": 23,
     "metadata": {},
     "output_type": "execute_result"
    }
   ],
   "source": [
    "device"
   ]
  },
  {
   "cell_type": "code",
   "execution_count": 24,
   "metadata": {},
   "outputs": [
    {
     "data": {
      "text/plain": [
       "41"
      ]
     },
     "execution_count": 24,
     "metadata": {},
     "output_type": "execute_result"
    }
   ],
   "source": [
    "len(text.label.unique())"
   ]
  },
  {
   "cell_type": "code",
   "execution_count": 25,
   "metadata": {},
   "outputs": [
    {
     "data": {
      "application/vnd.jupyter.widget-view+json": {
       "model_id": "1ce7613a768d45e9b0c3434d010c0ccd",
       "version_major": 2,
       "version_minor": 0
      },
      "text/plain": [
       "HBox(children=(FloatProgress(value=0.0, description='Downloading', max=433.0, style=ProgressStyle(description_…"
      ]
     },
     "metadata": {},
     "output_type": "display_data"
    },
    {
     "name": "stdout",
     "output_type": "stream",
     "text": [
      "\n"
     ]
    },
    {
     "data": {
      "application/vnd.jupyter.widget-view+json": {
       "model_id": "705b10350bbd4e95aa1bc731b1dccd21",
       "version_major": 2,
       "version_minor": 0
      },
      "text/plain": [
       "HBox(children=(FloatProgress(value=0.0, description='Downloading', max=435779157.0, style=ProgressStyle(descri…"
      ]
     },
     "metadata": {},
     "output_type": "display_data"
    },
    {
     "name": "stdout",
     "output_type": "stream",
     "text": [
      "\n"
     ]
    }
   ],
   "source": [
    "model = TextClassifier(len(text.label.unique()))\n",
    "model = model.to(device)"
   ]
  },
  {
   "cell_type": "code",
   "execution_count": 26,
   "metadata": {},
   "outputs": [
    {
     "name": "stdout",
     "output_type": "stream",
     "text": [
      "torch.Size([16, 128])\n",
      "torch.Size([16, 128])\n"
     ]
    }
   ],
   "source": [
    "input_ids = data['input_ids'].to(device)\n",
    "attention_mask = data['attention_mask'].to(device)\n",
    "\n",
    "print(input_ids.shape) # batch size x seq length\n",
    "print(attention_mask.shape) # batch size x seq length"
   ]
  },
  {
   "cell_type": "code",
   "execution_count": 27,
   "metadata": {},
   "outputs": [
    {
     "data": {
      "text/plain": [
       "tensor([[0.0625, 0.0129, 0.0152, 0.0174, 0.0173, 0.0215, 0.0164, 0.0333, 0.0364,\n",
       "         0.0277, 0.0327, 0.0216, 0.0321, 0.0109, 0.0195, 0.0247, 0.0165, 0.0193,\n",
       "         0.0186, 0.0056, 0.0272, 0.0253, 0.0560, 0.0120, 0.0264, 0.0440, 0.0081,\n",
       "         0.0298, 0.0166, 0.0495, 0.0497, 0.0125, 0.0242, 0.0192, 0.0079, 0.0152,\n",
       "         0.0291, 0.0188, 0.0246, 0.0244, 0.0172],\n",
       "        [0.0588, 0.0104, 0.0262, 0.0129, 0.0107, 0.0205, 0.0182, 0.0218, 0.0342,\n",
       "         0.0586, 0.0237, 0.0186, 0.0189, 0.0126, 0.0168, 0.0167, 0.0257, 0.0463,\n",
       "         0.0153, 0.0075, 0.0275, 0.0342, 0.0631, 0.0269, 0.0098, 0.0197, 0.0127,\n",
       "         0.0204, 0.0199, 0.0663, 0.0271, 0.0126, 0.0220, 0.0367, 0.0098, 0.0187,\n",
       "         0.0297, 0.0272, 0.0115, 0.0101, 0.0200],\n",
       "        [0.0463, 0.0062, 0.0242, 0.0096, 0.0102, 0.0153, 0.0246, 0.0245, 0.0173,\n",
       "         0.0259, 0.0323, 0.0159, 0.0165, 0.0107, 0.0291, 0.0110, 0.0424, 0.0414,\n",
       "         0.0188, 0.0041, 0.0358, 0.0759, 0.0552, 0.0304, 0.0207, 0.0388, 0.0114,\n",
       "         0.0299, 0.0161, 0.0217, 0.0390, 0.0185, 0.0130, 0.0240, 0.0113, 0.0209,\n",
       "         0.0259, 0.0367, 0.0215, 0.0124, 0.0147],\n",
       "        [0.0968, 0.0136, 0.0265, 0.0182, 0.0115, 0.0209, 0.0068, 0.0280, 0.0285,\n",
       "         0.0540, 0.0204, 0.0165, 0.0288, 0.0156, 0.0197, 0.0202, 0.0151, 0.0228,\n",
       "         0.0165, 0.0059, 0.0242, 0.0284, 0.0616, 0.0268, 0.0161, 0.0388, 0.0129,\n",
       "         0.0233, 0.0188, 0.0268, 0.0328, 0.0122, 0.0168, 0.0228, 0.0062, 0.0209,\n",
       "         0.0324, 0.0333, 0.0225, 0.0213, 0.0150],\n",
       "        [0.0691, 0.0085, 0.0274, 0.0139, 0.0101, 0.0206, 0.0182, 0.0248, 0.0294,\n",
       "         0.0385, 0.0253, 0.0104, 0.0326, 0.0062, 0.0134, 0.0223, 0.0228, 0.0335,\n",
       "         0.0162, 0.0125, 0.0222, 0.0413, 0.0573, 0.0347, 0.0104, 0.0212, 0.0091,\n",
       "         0.0249, 0.0353, 0.0522, 0.0324, 0.0272, 0.0218, 0.0217, 0.0059, 0.0174,\n",
       "         0.0223, 0.0264, 0.0198, 0.0180, 0.0229],\n",
       "        [0.0615, 0.0060, 0.0199, 0.0161, 0.0134, 0.0293, 0.0299, 0.0283, 0.0414,\n",
       "         0.0191, 0.0139, 0.0142, 0.0302, 0.0090, 0.0253, 0.0235, 0.0228, 0.0290,\n",
       "         0.0182, 0.0094, 0.0164, 0.0306, 0.0883, 0.0279, 0.0259, 0.0264, 0.0082,\n",
       "         0.0250, 0.0212, 0.0273, 0.0515, 0.0171, 0.0235, 0.0256, 0.0041, 0.0164,\n",
       "         0.0227, 0.0222, 0.0147, 0.0160, 0.0287],\n",
       "        [0.0681, 0.0058, 0.0201, 0.0122, 0.0157, 0.0276, 0.0145, 0.0312, 0.0310,\n",
       "         0.0226, 0.0219, 0.0143, 0.0211, 0.0218, 0.0150, 0.0199, 0.0135, 0.0498,\n",
       "         0.0175, 0.0060, 0.0368, 0.0248, 0.0511, 0.0279, 0.0159, 0.0342, 0.0131,\n",
       "         0.0401, 0.0193, 0.0343, 0.0462, 0.0156, 0.0255, 0.0229, 0.0060, 0.0139,\n",
       "         0.0450, 0.0331, 0.0171, 0.0103, 0.0173],\n",
       "        [0.0334, 0.0067, 0.0173, 0.0154, 0.0147, 0.0252, 0.0297, 0.0280, 0.0210,\n",
       "         0.0214, 0.0197, 0.0185, 0.0207, 0.0068, 0.0325, 0.0206, 0.0181, 0.0262,\n",
       "         0.0225, 0.0123, 0.0190, 0.0366, 0.0708, 0.0261, 0.0189, 0.0344, 0.0123,\n",
       "         0.0290, 0.0139, 0.0447, 0.0662, 0.0239, 0.0213, 0.0264, 0.0058, 0.0254,\n",
       "         0.0249, 0.0263, 0.0132, 0.0228, 0.0274],\n",
       "        [0.0761, 0.0158, 0.0243, 0.0143, 0.0103, 0.0260, 0.0166, 0.0284, 0.0323,\n",
       "         0.0186, 0.0259, 0.0112, 0.0161, 0.0089, 0.0133, 0.0185, 0.0321, 0.0274,\n",
       "         0.0221, 0.0094, 0.0498, 0.0260, 0.0511, 0.0277, 0.0151, 0.0370, 0.0089,\n",
       "         0.0333, 0.0246, 0.0214, 0.0478, 0.0163, 0.0329, 0.0239, 0.0071, 0.0212,\n",
       "         0.0237, 0.0366, 0.0147, 0.0167, 0.0162],\n",
       "        [0.0349, 0.0106, 0.0284, 0.0121, 0.0093, 0.0377, 0.0332, 0.0178, 0.0148,\n",
       "         0.0185, 0.0297, 0.0175, 0.0295, 0.0111, 0.0202, 0.0177, 0.0307, 0.0269,\n",
       "         0.0242, 0.0123, 0.0243, 0.0649, 0.0709, 0.0449, 0.0218, 0.0260, 0.0110,\n",
       "         0.0355, 0.0235, 0.0286, 0.0488, 0.0120, 0.0157, 0.0223, 0.0048, 0.0121,\n",
       "         0.0179, 0.0193, 0.0188, 0.0189, 0.0209],\n",
       "        [0.1056, 0.0071, 0.0271, 0.0074, 0.0151, 0.0259, 0.0147, 0.0208, 0.0162,\n",
       "         0.0187, 0.0159, 0.0248, 0.0373, 0.0123, 0.0136, 0.0237, 0.0123, 0.0298,\n",
       "         0.0182, 0.0074, 0.0281, 0.0175, 0.0271, 0.0190, 0.0175, 0.0393, 0.0130,\n",
       "         0.0170, 0.0279, 0.0390, 0.0317, 0.0175, 0.0309, 0.0106, 0.0050, 0.0237,\n",
       "         0.0137, 0.0968, 0.0284, 0.0219, 0.0205],\n",
       "        [0.0541, 0.0117, 0.0254, 0.0098, 0.0092, 0.0315, 0.0232, 0.0207, 0.0230,\n",
       "         0.0229, 0.0376, 0.0393, 0.0233, 0.0103, 0.0182, 0.0273, 0.0217, 0.0236,\n",
       "         0.0258, 0.0086, 0.0160, 0.0421, 0.0508, 0.0207, 0.0244, 0.0332, 0.0102,\n",
       "         0.0365, 0.0197, 0.0299, 0.0413, 0.0209, 0.0200, 0.0260, 0.0069, 0.0222,\n",
       "         0.0262, 0.0308, 0.0232, 0.0109, 0.0207],\n",
       "        [0.0819, 0.0186, 0.0253, 0.0142, 0.0065, 0.0178, 0.0192, 0.0187, 0.0242,\n",
       "         0.0270, 0.0182, 0.0171, 0.0223, 0.0079, 0.0098, 0.0251, 0.0123, 0.0273,\n",
       "         0.0224, 0.0069, 0.0284, 0.0232, 0.1004, 0.0191, 0.0337, 0.0166, 0.0098,\n",
       "         0.0221, 0.0286, 0.0247, 0.0576, 0.0157, 0.0255, 0.0192, 0.0066, 0.0109,\n",
       "         0.0243, 0.0471, 0.0178, 0.0177, 0.0281],\n",
       "        [0.0546, 0.0100, 0.0267, 0.0087, 0.0153, 0.0204, 0.0275, 0.0401, 0.0364,\n",
       "         0.0324, 0.0147, 0.0235, 0.0300, 0.0137, 0.0213, 0.0414, 0.0256, 0.0235,\n",
       "         0.0189, 0.0132, 0.0203, 0.0280, 0.0380, 0.0176, 0.0389, 0.0408, 0.0121,\n",
       "         0.0161, 0.0203, 0.0291, 0.0275, 0.0182, 0.0206, 0.0352, 0.0072, 0.0234,\n",
       "         0.0170, 0.0292, 0.0305, 0.0122, 0.0196],\n",
       "        [0.0788, 0.0091, 0.0186, 0.0159, 0.0082, 0.0143, 0.0266, 0.0306, 0.0267,\n",
       "         0.0282, 0.0171, 0.0211, 0.0337, 0.0156, 0.0171, 0.0356, 0.0300, 0.0214,\n",
       "         0.0251, 0.0076, 0.0221, 0.0378, 0.0462, 0.0172, 0.0231, 0.0286, 0.0135,\n",
       "         0.0194, 0.0263, 0.0431, 0.0282, 0.0245, 0.0209, 0.0182, 0.0064, 0.0273,\n",
       "         0.0303, 0.0275, 0.0189, 0.0190, 0.0204],\n",
       "        [0.0861, 0.0110, 0.0356, 0.0103, 0.0090, 0.0137, 0.0318, 0.0270, 0.0243,\n",
       "         0.0225, 0.0160, 0.0329, 0.0276, 0.0106, 0.0156, 0.0238, 0.0216, 0.0179,\n",
       "         0.0236, 0.0108, 0.0392, 0.0296, 0.0648, 0.0321, 0.0276, 0.0411, 0.0135,\n",
       "         0.0103, 0.0226, 0.0260, 0.0542, 0.0223, 0.0225, 0.0239, 0.0067, 0.0161,\n",
       "         0.0131, 0.0240, 0.0131, 0.0142, 0.0110]], device='cuda:0',\n",
       "       grad_fn=<SoftmaxBackward>)"
      ]
     },
     "execution_count": 27,
     "metadata": {},
     "output_type": "execute_result"
    }
   ],
   "source": [
    "F.softmax(model(input_ids, attention_mask), dim=1)"
   ]
  },
  {
   "cell_type": "code",
   "execution_count": 28,
   "metadata": {},
   "outputs": [],
   "source": [
    "EPOCHS = 3\n",
    "MAX_LENGTH = 128\n",
    "TRAIN_BATCH_SIZE = 8\n",
    "VALID_BATCH_SIZE = 4\n",
    "\n",
    "LearningRate = 5e-5\n",
    "\n",
    "BETAS = (0.9, 0.999)\n",
    "BERT_WEIGHT_DECAY = 0.01\n",
    "EPS = 1e-8\n",
    "\n",
    "# Define identifiers & group model parameters accordingly \n",
    "bert_identifiers = ['embedding', 'encoder', 'pooler']\n",
    "no_weight_decay_identifiers = ['bias', 'LayerNorm.weight']\n",
    "grouped_model_parameters = [\n",
    "        {'params': [param for name, param in model.named_parameters()\n",
    "                    if any(identifier in name for identifier in bert_identifiers) and\n",
    "                    not any(identifier_ in name for identifier_ in no_weight_decay_identifiers)],\n",
    "        'lr': LearningRate,\n",
    "        'betas': BETAS,\n",
    "        'weight_decay': BERT_WEIGHT_DECAY,\n",
    "        'eps': EPS},\n",
    "        {'params': [param for name, param in model.named_parameters()\n",
    "                    if any(identifier in name for identifier in bert_identifiers) and\n",
    "                    any(identifier_ in name for identifier_ in no_weight_decay_identifiers)],\n",
    "        'lr': LearningRate,\n",
    "        'betas': BETAS,\n",
    "        'weight_decay': 0.0,\n",
    "        'eps': EPS},\n",
    "        {'params': [param for name, param in model.named_parameters()\n",
    "                    if not any(identifier in name for identifier in bert_identifiers)],\n",
    "        'lr': LearningRate,\n",
    "        'betas': BETAS,\n",
    "        'weight_decay': 0.0,\n",
    "        'eps': EPS}\n",
    "]\n",
    "\n",
    "# Define optimizer\n",
    "optimizers = AdamW(grouped_model_parameters)\n",
    "\n",
    "optimizer = AdamW(model.parameters(), lr=5e-5, correct_bias=False)\n",
    "\n",
    "total_steps = len(train_data_loader) * EPOCHS\n",
    "\n",
    "scheduler = get_linear_schedule_with_warmup(\n",
    "  optimizer,\n",
    "  num_warmup_steps=0,\n",
    "  num_training_steps=total_steps\n",
    ")\n",
    "\n",
    "loss_fn = nn.CrossEntropyLoss().to(device)"
   ]
  },
  {
   "cell_type": "code",
   "execution_count": 29,
   "metadata": {},
   "outputs": [],
   "source": [
    "def train_epoch(model, data_loader, loss_fn, optimizer, device, scheduler, n_examples):\n",
    "    \n",
    "    \n",
    "    model = model.train()\n",
    "    losses = []\n",
    "    correct_predictions = 0\n",
    "    for d in tqdm(data_loader):\n",
    "        input_ids = d[\"input_ids\"].to(device)\n",
    "        attention_mask = d[\"attention_mask\"].to(device)\n",
    "        targets = d[\"targets\"].to(device)\n",
    "        outputs = model(\n",
    "          input_ids=input_ids,\n",
    "          attention_mask=attention_mask\n",
    "        )\n",
    "        _, preds = torch.max(outputs, dim=1)\n",
    "        loss = loss_fn(outputs, targets)\n",
    "        correct_predictions += torch.sum(preds == targets)\n",
    "        losses.append(loss.item())\n",
    "        loss.backward()\n",
    "        nn.utils.clip_grad_norm_(model.parameters(), max_norm=1.0)\n",
    "        optimizer.step()\n",
    "        scheduler.step()\n",
    "        optimizer.zero_grad()\n",
    "        \n",
    "    return correct_predictions.double() / n_examples, np.mean(losses)"
   ]
  },
  {
   "cell_type": "code",
   "execution_count": 30,
   "metadata": {},
   "outputs": [],
   "source": [
    "def eval_model(model, data_loader, loss_fn, device, n_examples):\n",
    "    \n",
    "    model = model.eval()\n",
    "    \n",
    "    losses = []\n",
    "    \n",
    "    correct_predictions = 0\n",
    "    \n",
    "    with torch.no_grad():\n",
    "        for d in tqdm(data_loader):\n",
    "            input_ids = d[\"input_ids\"].to(device)\n",
    "            attention_mask = d[\"attention_mask\"].to(device)\n",
    "            targets = d[\"targets\"].to(device)\n",
    "            \n",
    "            outputs = model(\n",
    "            input_ids=input_ids,\n",
    "            attention_mask=attention_mask\n",
    "            )\n",
    "            \n",
    "            _, preds = torch.max(outputs, dim=1)\n",
    "            loss = loss_fn(outputs, targets)\n",
    "            correct_predictions += torch.sum(preds == targets)\n",
    "            losses.append(loss.item())\n",
    "            \n",
    "    return correct_predictions.double() / n_examples, np.mean(losses)"
   ]
  },
  {
   "cell_type": "code",
   "execution_count": 31,
   "metadata": {},
   "outputs": [
    {
     "name": "stderr",
     "output_type": "stream",
     "text": [
      "  0%|          | 0/40 [00:00<?, ?it/s]"
     ]
    },
    {
     "name": "stdout",
     "output_type": "stream",
     "text": [
      "Epoch 1/3\n",
      "----------\n"
     ]
    },
    {
     "name": "stderr",
     "output_type": "stream",
     "text": [
      "100%|██████████| 40/40 [00:09<00:00,  4.34it/s]\n",
      "  0%|          | 0/17 [00:00<?, ?it/s]"
     ]
    },
    {
     "name": "stdout",
     "output_type": "stream",
     "text": [
      "Train loss 3.4384309232234953 accuracy 0.15396825396825398\n"
     ]
    },
    {
     "name": "stderr",
     "output_type": "stream",
     "text": [
      "100%|██████████| 17/17 [00:01<00:00, 11.92it/s]\n"
     ]
    },
    {
     "name": "stdout",
     "output_type": "stream",
     "text": [
      "Val   loss 3.184098117491778 accuracy 0.17777777777777778\n",
      "\n"
     ]
    },
    {
     "name": "stderr",
     "output_type": "stream",
     "text": [
      "  0%|          | 0/40 [00:00<?, ?it/s]"
     ]
    },
    {
     "name": "stdout",
     "output_type": "stream",
     "text": [
      "Epoch 2/3\n",
      "----------\n"
     ]
    },
    {
     "name": "stderr",
     "output_type": "stream",
     "text": [
      "100%|██████████| 40/40 [00:09<00:00,  4.43it/s]\n",
      "  0%|          | 0/17 [00:00<?, ?it/s]"
     ]
    },
    {
     "name": "stdout",
     "output_type": "stream",
     "text": [
      "Train loss 3.003366583585739 accuracy 0.25396825396825395\n"
     ]
    },
    {
     "name": "stderr",
     "output_type": "stream",
     "text": [
      "100%|██████████| 17/17 [00:01<00:00, 11.44it/s]\n"
     ]
    },
    {
     "name": "stdout",
     "output_type": "stream",
     "text": [
      "Val   loss 2.9439484792597153 accuracy 0.26666666666666666\n",
      "\n"
     ]
    },
    {
     "name": "stderr",
     "output_type": "stream",
     "text": [
      "  0%|          | 0/40 [00:00<?, ?it/s]"
     ]
    },
    {
     "name": "stdout",
     "output_type": "stream",
     "text": [
      "Epoch 3/3\n",
      "----------\n"
     ]
    },
    {
     "name": "stderr",
     "output_type": "stream",
     "text": [
      "100%|██████████| 40/40 [00:08<00:00,  4.51it/s]\n",
      "  0%|          | 0/17 [00:00<?, ?it/s]"
     ]
    },
    {
     "name": "stdout",
     "output_type": "stream",
     "text": [
      "Train loss 2.664821594953537 accuracy 0.3476190476190476\n"
     ]
    },
    {
     "name": "stderr",
     "output_type": "stream",
     "text": [
      "100%|██████████| 17/17 [00:01<00:00, 11.79it/s]\n"
     ]
    },
    {
     "name": "stdout",
     "output_type": "stream",
     "text": [
      "Val   loss 2.8026052082286164 accuracy 0.31851851851851853\n",
      "\n",
      "CPU times: user 21.2 s, sys: 9.62 s, total: 30.9 s\n",
      "Wall time: 34.1 s\n"
     ]
    }
   ],
   "source": [
    "%%time\n",
    "\n",
    "history = defaultdict(list)\n",
    "best_accuracy = 0\n",
    "\n",
    "for epoch in range(EPOCHS):\n",
    "    print(f'Epoch {epoch + 1}/{EPOCHS}')\n",
    "    print('-' * 10)\n",
    "    train_acc, train_loss = train_epoch(\n",
    "                                        model,\n",
    "                                        train_data_loader,\n",
    "                                        loss_fn,\n",
    "                                        optimizer,\n",
    "                                        device,\n",
    "                                        scheduler,\n",
    "                                        len(train)\n",
    "    )\n",
    "    print(f'Train loss {train_loss} accuracy {train_acc}')\n",
    "    val_acc, val_loss = eval_model(\n",
    "                                    model,\n",
    "                                    val_data_loader,\n",
    "                                    loss_fn,\n",
    "                                    device,\n",
    "                                    len(val)\n",
    "  )\n",
    "    print(f'Val   loss {val_loss} accuracy {val_acc}')\n",
    "    print()\n",
    "    history['train_acc'].append(train_acc)\n",
    "    history['train_loss'].append(train_loss)\n",
    "    history['val_acc'].append(val_acc)\n",
    "    history['val_loss'].append(val_loss)\n",
    "    \n",
    "    if val_acc > best_accuracy:\n",
    "        torch.save(model.state_dict(), 'best_model_state.bin')\n",
    "        best_accuracy = val_acc"
   ]
  },
  {
   "cell_type": "code",
   "execution_count": 32,
   "metadata": {},
   "outputs": [
    {
     "data": {
      "text/plain": [
       "<matplotlib.legend.Legend at 0x7fd486274e50>"
      ]
     },
     "execution_count": 32,
     "metadata": {},
     "output_type": "execute_result"
    },
    {
     "data": {
      "image/png": "[encoded data removed]",
      "text/plain": [
       "<Figure size 864x576 with 1 Axes>"
      ]
     },
     "metadata": {
      "image/png": {
       "height": 506,
       "width": 749
      }
     },
     "output_type": "display_data"
    }
   ],
   "source": [
    "plt.plot(history['train_acc'], label='train accuracy')\n",
    "plt.plot(history['val_acc'], label='validation accuracy')\n",
    "plt.title('Training history')\n",
    "plt.ylabel('Accuracy')\n",
    "plt.xlabel('Epoch')\n",
    "plt.legend()"
   ]
  },
  {
   "cell_type": "code",
   "execution_count": 33,
   "metadata": {},
   "outputs": [
    {
     "data": {
      "text/html": [
       "<div>\n",
       "<style scoped>\n",
       "    .dataframe tbody tr th:only-of-type {\n",
       "        vertical-align: middle;\n",
       "    }\n",
       "\n",
       "    .dataframe tbody tr th {\n",
       "        vertical-align: top;\n",
       "    }\n",
       "\n",
       "    .dataframe thead th {\n",
       "        text-align: right;\n",
       "    }\n",
       "</style>\n",
       "<table border=\"1\" class=\"dataframe\">\n",
       "  <thead>\n",
       "    <tr style=\"text-align: right;\">\n",
       "      <th></th>\n",
       "      <th>text</th>\n",
       "      <th>label</th>\n",
       "    </tr>\n",
       "  </thead>\n",
       "  <tbody>\n",
       "    <tr>\n",
       "      <th>177549</th>\n",
       "      <td>Palmdale, Florida: Biggest Bite Per Capita (PH...</td>\n",
       "      <td>34</td>\n",
       "    </tr>\n",
       "    <tr>\n",
       "      <th>165427</th>\n",
       "      <td>Unstick Drawers Using...A Bar Of Soap?** Have ...</td>\n",
       "      <td>17</td>\n",
       "    </tr>\n",
       "    <tr>\n",
       "      <th>33665</th>\n",
       "      <td>Dakota Access Protesters Arrested As Deadline ...</td>\n",
       "      <td>24</td>\n",
       "    </tr>\n",
       "    <tr>\n",
       "      <th>138323</th>\n",
       "      <td>\"It's All Feelings, Baby!\" - How Is This Refle...</td>\n",
       "      <td>30</td>\n",
       "    </tr>\n",
       "    <tr>\n",
       "      <th>138716</th>\n",
       "      <td>A Man, a Turkey: Thanksgiving UnpluggedI hereb...</td>\n",
       "      <td>37</td>\n",
       "    </tr>\n",
       "    <tr>\n",
       "      <th>...</th>\n",
       "      <td>...</td>\n",
       "      <td>...</td>\n",
       "    </tr>\n",
       "    <tr>\n",
       "      <th>6026</th>\n",
       "      <td>The First 'Venom' Trailer Is Here, And Spider-...</td>\n",
       "      <td>10</td>\n",
       "    </tr>\n",
       "    <tr>\n",
       "      <th>95592</th>\n",
       "      <td>Tim Tebow Trained With Manny PacquiaoThe pair ...</td>\n",
       "      <td>28</td>\n",
       "    </tr>\n",
       "    <tr>\n",
       "      <th>140150</th>\n",
       "      <td>How to Write a Condolence Letter: 5 Suggestion...</td>\n",
       "      <td>37</td>\n",
       "    </tr>\n",
       "    <tr>\n",
       "      <th>138201</th>\n",
       "      <td>Thick Thighs and Paris Street FoodMy nose was ...</td>\n",
       "      <td>34</td>\n",
       "    </tr>\n",
       "    <tr>\n",
       "      <th>169774</th>\n",
       "      <td>When Divorce Is A New Year's ResolutionWhile s...</td>\n",
       "      <td>8</td>\n",
       "    </tr>\n",
       "  </tbody>\n",
       "</table>\n",
       "<p>100 rows × 2 columns</p>\n",
       "</div>"
      ],
      "text/plain": [
       "                                                     text  label\n",
       "177549  Palmdale, Florida: Biggest Bite Per Capita (PH...     34\n",
       "165427  Unstick Drawers Using...A Bar Of Soap?** Have ...     17\n",
       "33665   Dakota Access Protesters Arrested As Deadline ...     24\n",
       "138323  \"It's All Feelings, Baby!\" - How Is This Refle...     30\n",
       "138716  A Man, a Turkey: Thanksgiving UnpluggedI hereb...     37\n",
       "...                                                   ...    ...\n",
       "6026    The First 'Venom' Trailer Is Here, And Spider-...     10\n",
       "95592   Tim Tebow Trained With Manny PacquiaoThe pair ...     28\n",
       "140150  How to Write a Condolence Letter: 5 Suggestion...     37\n",
       "138201  Thick Thighs and Paris Street FoodMy nose was ...     34\n",
       "169774  When Divorce Is A New Year's ResolutionWhile s...      8\n",
       "\n",
       "[100 rows x 2 columns]"
      ]
     },
     "execution_count": 33,
     "metadata": {},
     "output_type": "execute_result"
    }
   ],
   "source": [
    "test"
   ]
  },
  {
   "cell_type": "code",
   "execution_count": 34,
   "metadata": {},
   "outputs": [
    {
     "ename": "NameError",
     "evalue": "name 'df_test' is not defined",
     "output_type": "error",
     "traceback": [
      "\u001b[0;31m---------------------------------------------------------------------------\u001b[0m",
      "\u001b[0;31mNameError\u001b[0m                                 Traceback (most recent call last)",
      "\u001b[0;32m<ipython-input-34-212b3ca2a4d1>\u001b[0m in \u001b[0;36m<module>\u001b[0;34m\u001b[0m\n\u001b[1;32m      4\u001b[0m   \u001b[0mloss_fn\u001b[0m\u001b[0;34m,\u001b[0m\u001b[0;34m\u001b[0m\u001b[0;34m\u001b[0m\u001b[0m\n\u001b[1;32m      5\u001b[0m   \u001b[0mdevice\u001b[0m\u001b[0;34m,\u001b[0m\u001b[0;34m\u001b[0m\u001b[0;34m\u001b[0m\u001b[0m\n\u001b[0;32m----> 6\u001b[0;31m   \u001b[0mlen\u001b[0m\u001b[0;34m(\u001b[0m\u001b[0mdf_test\u001b[0m\u001b[0;34m)\u001b[0m\u001b[0;34m\u001b[0m\u001b[0;34m\u001b[0m\u001b[0m\n\u001b[0m\u001b[1;32m      7\u001b[0m )\n\u001b[1;32m      8\u001b[0m \u001b[0;34m\u001b[0m\u001b[0m\n",
      "\u001b[0;31mNameError\u001b[0m: name 'df_test' is not defined"
     ]
    }
   ],
   "source": [
    "test_acc, _ = eval_model(\n",
    "  model,\n",
    "  test_data_loader,\n",
    "  loss_fn,\n",
    "  device,\n",
    "  len(df_test)\n",
    ")\n",
    "\n",
    "\n",
    "test_acc.item()"
   ]
  },
  {
   "cell_type": "code",
   "execution_count": 35,
   "metadata": {},
   "outputs": [
    {
     "ename": "IndentationError",
     "evalue": "expected an indented block (<ipython-input-35-cc4515d43628>, line 8)",
     "output_type": "error",
     "traceback": [
      "\u001b[0;36m  File \u001b[0;32m\"<ipython-input-35-cc4515d43628>\"\u001b[0;36m, line \u001b[0;32m8\u001b[0m\n\u001b[0;31m    for d in data_loader:\u001b[0m\n\u001b[0m      ^\u001b[0m\n\u001b[0;31mIndentationError\u001b[0m\u001b[0;31m:\u001b[0m expected an indented block\n"
     ]
    }
   ],
   "source": [
    "def get_predictions(model, data_loader):\n",
    "    model = model.eval()\n",
    "    review_texts = []\n",
    "    predictions = []\n",
    "    prediction_probs = []\n",
    "    real_values = []\n",
    "    with torch.no_grad():\n",
    "    for d in data_loader:\n",
    "        texts = d[\"review_text\"]\n",
    "        input_ids = d[\"input_ids\"].to(device)\n",
    "        attention_mask = d[\"attention_mask\"].to(device)\n",
    "        targets = d[\"targets\"].to(device)\n",
    "        outputs = model(\n",
    "        input_ids=input_ids,\n",
    "        attention_mask=attention_mask\n",
    "        )\n",
    "        _, preds = torch.max(outputs, dim=1)\n",
    "        review_texts.extend(texts)\n",
    "        predictions.extend(preds)\n",
    "        prediction_probs.extend(outputs)\n",
    "        real_values.extend(targets)\n",
    "    predictions = torch.stack(predictions).cpu()\n",
    "    prediction_probs = torch.stack(prediction_probs).cpu()\n",
    "    real_values = torch.stack(real_values).cpu()\n",
    "    return review_texts, predictions, prediction_probs, real_values"
   ]
  },
  {
   "cell_type": "code",
   "execution_count": 36,
   "metadata": {},
   "outputs": [
    {
     "ename": "NameError",
     "evalue": "name 'get_predictions' is not defined",
     "output_type": "error",
     "traceback": [
      "\u001b[0;31m---------------------------------------------------------------------------\u001b[0m",
      "\u001b[0;31mNameError\u001b[0m                                 Traceback (most recent call last)",
      "\u001b[0;32m<ipython-input-36-1ffee9f7dc35>\u001b[0m in \u001b[0;36m<module>\u001b[0;34m\u001b[0m\n\u001b[0;32m----> 1\u001b[0;31m y_review_texts, y_pred, y_pred_probs, y_test = get_predictions(\n\u001b[0m\u001b[1;32m      2\u001b[0m   \u001b[0mmodel\u001b[0m\u001b[0;34m,\u001b[0m\u001b[0;34m\u001b[0m\u001b[0;34m\u001b[0m\u001b[0m\n\u001b[1;32m      3\u001b[0m   \u001b[0mtest_data_loader\u001b[0m\u001b[0;34m\u001b[0m\u001b[0;34m\u001b[0m\u001b[0m\n\u001b[1;32m      4\u001b[0m )\n",
      "\u001b[0;31mNameError\u001b[0m: name 'get_predictions' is not defined"
     ]
    }
   ],
   "source": [
    "y_review_texts, y_pred, y_pred_probs, y_test = get_predictions(\n",
    "  model,\n",
    "  test_data_loader\n",
    ")"
   ]
  },
  {
   "cell_type": "code",
   "execution_count": 37,
   "metadata": {},
   "outputs": [
    {
     "ename": "NameError",
     "evalue": "name 'y_test' is not defined",
     "output_type": "error",
     "traceback": [
      "\u001b[0;31m---------------------------------------------------------------------------\u001b[0m",
      "\u001b[0;31mNameError\u001b[0m                                 Traceback (most recent call last)",
      "\u001b[0;32m<ipython-input-37-826037adbc29>\u001b[0m in \u001b[0;36m<module>\u001b[0;34m\u001b[0m\n\u001b[0;32m----> 1\u001b[0;31m \u001b[0mprint\u001b[0m\u001b[0;34m(\u001b[0m\u001b[0mclassification_report\u001b[0m\u001b[0;34m(\u001b[0m\u001b[0my_test\u001b[0m\u001b[0;34m,\u001b[0m \u001b[0my_pred\u001b[0m\u001b[0;34m,\u001b[0m \u001b[0mtarget_names\u001b[0m\u001b[0;34m=\u001b[0m\u001b[0mclass_names\u001b[0m\u001b[0;34m)\u001b[0m\u001b[0;34m)\u001b[0m\u001b[0;34m\u001b[0m\u001b[0;34m\u001b[0m\u001b[0m\n\u001b[0m",
      "\u001b[0;31mNameError\u001b[0m: name 'y_test' is not defined"
     ]
    }
   ],
   "source": [
    "print(classification_report(y_test, y_pred, target_names=class_names))"
   ]
  },
  {
   "cell_type": "code",
   "execution_count": 38,
   "metadata": {},
   "outputs": [],
   "source": [
    "def show_confusion_matrix(confusion_matrix):\n",
    "    hmap = sns.heatmap(confusion_matrix, annot=True, fmt=\"d\", cmap=\"Blues\")\n",
    "    hmap.yaxis.set_ticklabels(hmap.yaxis.get_ticklabels(), rotation=0, ha='right')\n",
    "    hmap.xaxis.set_ticklabels(hmap.xaxis.get_ticklabels(), rotation=30, ha='right')\n",
    "    plt.ylabel('True sentiment')\n",
    "    plt.xlabel('Predicted sentiment');"
   ]
  },
  {
   "cell_type": "code",
   "execution_count": 39,
   "metadata": {},
   "outputs": [
    {
     "ename": "NameError",
     "evalue": "name 'y_test' is not defined",
     "output_type": "error",
     "traceback": [
      "\u001b[0;31m---------------------------------------------------------------------------\u001b[0m",
      "\u001b[0;31mNameError\u001b[0m                                 Traceback (most recent call last)",
      "\u001b[0;32m<ipython-input-39-a27e45cd58a8>\u001b[0m in \u001b[0;36m<module>\u001b[0;34m\u001b[0m\n\u001b[0;32m----> 1\u001b[0;31m \u001b[0mcm\u001b[0m \u001b[0;34m=\u001b[0m \u001b[0mconfusion_matrix\u001b[0m\u001b[0;34m(\u001b[0m\u001b[0my_test\u001b[0m\u001b[0;34m,\u001b[0m \u001b[0my_pred\u001b[0m\u001b[0;34m)\u001b[0m\u001b[0;34m\u001b[0m\u001b[0;34m\u001b[0m\u001b[0m\n\u001b[0m\u001b[1;32m      2\u001b[0m \u001b[0mdf_cm\u001b[0m \u001b[0;34m=\u001b[0m \u001b[0mpd\u001b[0m\u001b[0;34m.\u001b[0m\u001b[0mDataFrame\u001b[0m\u001b[0;34m(\u001b[0m\u001b[0mcm\u001b[0m\u001b[0;34m,\u001b[0m \u001b[0mindex\u001b[0m\u001b[0;34m=\u001b[0m\u001b[0mclass_names\u001b[0m\u001b[0;34m,\u001b[0m \u001b[0mcolumns\u001b[0m\u001b[0;34m=\u001b[0m\u001b[0mclass_names\u001b[0m\u001b[0;34m)\u001b[0m\u001b[0;34m\u001b[0m\u001b[0;34m\u001b[0m\u001b[0m\n\u001b[1;32m      3\u001b[0m \u001b[0mshow_confusion_matrix\u001b[0m\u001b[0;34m(\u001b[0m\u001b[0mdf_cm\u001b[0m\u001b[0;34m)\u001b[0m\u001b[0;34m\u001b[0m\u001b[0;34m\u001b[0m\u001b[0m\n",
      "\u001b[0;31mNameError\u001b[0m: name 'y_test' is not defined"
     ]
    }
   ],
   "source": [
    "cm = confusion_matrix(y_test, y_pred)\n",
    "df_cm = pd.DataFrame(cm, index=class_names, columns=class_names)\n",
    "show_confusion_matrix(df_cm)"
   ]
  }
 ],
 "metadata": {
  "kernelspec": {
   "display_name": "Python 3",
   "language": "python",
   "name": "python3"
  },
  "language_info": {
   "codemirror_mode": {
    "name": "ipython",
    "version": 3
   },
   "file_extension": ".py",
   "mimetype": "text/x-python",
   "name": "python",
   "nbconvert_exporter": "python",
   "pygments_lexer": "ipython3",
   "version": "3.7.6"
  },
  "widgets": {
   "application/vnd.jupyter.widget-state+json": {
    "state": {
     "09b937b3f5a040f2ae3378c10a565df2": {
      "model_module": "@jupyter-widgets/controls",
      "model_module_version": "1.5.0",
      "model_name": "DescriptionStyleModel",
      "state": {
       "_model_module": "@jupyter-widgets/controls",
       "_model_module_version": "1.5.0",
       "_model_name": "DescriptionStyleModel",
       "_view_count": null,
       "_view_module": "@jupyter-widgets/base",
       "_view_module_version": "1.2.0",
       "_view_name": "StyleView",
       "description_width": ""
      }
     },
     "117722f78a774d88970de6e8d9001b20": {
      "model_module": "@jupyter-widgets/controls",
      "model_module_version": "1.5.0",
      "model_name": "DescriptionStyleModel",
      "state": {
       "_model_module": "@jupyter-widgets/controls",
       "_model_module_version": "1.5.0",
       "_model_name": "DescriptionStyleModel",
       "_view_count": null,
       "_view_module": "@jupyter-widgets/base",
       "_view_module_version": "1.2.0",
       "_view_name": "StyleView",
       "description_width": ""
      }
     },
     "1744001d4a3c4ae78a38d4499b612519": {
      "model_module": "@jupyter-widgets/controls",
      "model_module_version": "1.5.0",
      "model_name": "ProgressStyleModel",
      "state": {
       "_model_module": "@jupyter-widgets/controls",
       "_model_module_version": "1.5.0",
       "_model_name": "ProgressStyleModel",
       "_view_count": null,
       "_view_module": "@jupyter-widgets/base",
       "_view_module_version": "1.2.0",
       "_view_name": "StyleView",
       "bar_color": null,
       "description_width": "initial"
      }
     },
     "1ce7613a768d45e9b0c3434d010c0ccd": {
      "model_module": "@jupyter-widgets/controls",
      "model_module_version": "1.5.0",
      "model_name": "HBoxModel",
      "state": {
       "_dom_classes": [],
       "_model_module": "@jupyter-widgets/controls",
       "_model_module_version": "1.5.0",
       "_model_name": "HBoxModel",
       "_view_count": null,
       "_view_module": "@jupyter-widgets/controls",
       "_view_module_version": "1.5.0",
       "_view_name": "HBoxView",
       "box_style": "",
       "children": [
        "IPY_MODEL_1d0baa85fbc64f0a81d7782f65a6e75e",
        "IPY_MODEL_7a521a72fa41416586d16f90d0c1477a"
       ],
       "layout": "IPY_MODEL_fdfa30abaaec470097ffc1a64469e40c"
      }
     },
     "1d0baa85fbc64f0a81d7782f65a6e75e": {
      "model_module": "@jupyter-widgets/controls",
      "model_module_version": "1.5.0",
      "model_name": "FloatProgressModel",
      "state": {
       "_dom_classes": [],
       "_model_module": "@jupyter-widgets/controls",
       "_model_module_version": "1.5.0",
       "_model_name": "FloatProgressModel",
       "_view_count": null,
       "_view_module": "@jupyter-widgets/controls",
       "_view_module_version": "1.5.0",
       "_view_name": "ProgressView",
       "bar_style": "success",
       "description": "Downloading: 100%",
       "description_tooltip": null,
       "layout": "IPY_MODEL_c4a3be31cd6a4ac0a217bf08e37a0e4d",
       "max": 433.0,
       "min": 0.0,
       "orientation": "horizontal",
       "style": "IPY_MODEL_1744001d4a3c4ae78a38d4499b612519",
       "value": 433.0
      }
     },
     "26b0549e32fc40b6b91dba40c28c4a69": {
      "model_module": "@jupyter-widgets/base",
      "model_module_version": "1.2.0",
      "model_name": "LayoutModel",
      "state": {
       "_model_module": "@jupyter-widgets/base",
       "_model_module_version": "1.2.0",
       "_model_name": "LayoutModel",
       "_view_count": null,
       "_view_module": "@jupyter-widgets/base",
       "_view_module_version": "1.2.0",
       "_view_name": "LayoutView",
       "align_content": null,
       "align_items": null,
       "align_self": null,
       "border": null,
       "bottom": null,
       "display": null,
       "flex": null,
       "flex_flow": null,
       "grid_area": null,
       "grid_auto_columns": null,
       "grid_auto_flow": null,
       "grid_auto_rows": null,
       "grid_column": null,
       "grid_gap": null,
       "grid_row": null,
       "grid_template_areas": null,
       "grid_template_columns": null,
       "grid_template_rows": null,
       "height": null,
       "justify_content": null,
       "justify_items": null,
       "left": null,
       "margin": null,
       "max_height": null,
       "max_width": null,
       "min_height": null,
       "min_width": null,
       "object_fit": null,
       "object_position": null,
       "order": null,
       "overflow": null,
       "overflow_x": null,
       "overflow_y": null,
       "padding": null,
       "right": null,
       "top": null,
       "visibility": null,
       "width": null
      }
     },
     "3626c1b829284015af62d400fba1c9f8": {
      "model_module": "@jupyter-widgets/base",
      "model_module_version": "1.2.0",
      "model_name": "LayoutModel",
      "state": {
       "_model_module": "@jupyter-widgets/base",
       "_model_module_version": "1.2.0",
       "_model_name": "LayoutModel",
       "_view_count": null,
       "_view_module": "@jupyter-widgets/base",
       "_view_module_version": "1.2.0",
       "_view_name": "LayoutView",
       "align_content": null,
       "align_items": null,
       "align_self": null,
       "border": null,
       "bottom": null,
       "display": null,
       "flex": null,
       "flex_flow": null,
       "grid_area": null,
       "grid_auto_columns": null,
       "grid_auto_flow": null,
       "grid_auto_rows": null,
       "grid_column": null,
       "grid_gap": null,
       "grid_row": null,
       "grid_template_areas": null,
       "grid_template_columns": null,
       "grid_template_rows": null,
       "height": null,
       "justify_content": null,
       "justify_items": null,
       "left": null,
       "margin": null,
       "max_height": null,
       "max_width": null,
       "min_height": null,
       "min_width": null,
       "object_fit": null,
       "object_position": null,
       "order": null,
       "overflow": null,
       "overflow_x": null,
       "overflow_y": null,
       "padding": null,
       "right": null,
       "top": null,
       "visibility": null,
       "width": null
      }
     },
     "41fc1bd4ec7e407f8c44d673be070d2c": {
      "model_module": "@jupyter-widgets/controls",
      "model_module_version": "1.5.0",
      "model_name": "HBoxModel",
      "state": {
       "_dom_classes": [],
       "_model_module": "@jupyter-widgets/controls",
       "_model_module_version": "1.5.0",
       "_model_name": "HBoxModel",
       "_view_count": null,
       "_view_module": "@jupyter-widgets/controls",
       "_view_module_version": "1.5.0",
       "_view_name": "HBoxView",
       "box_style": "",
       "children": [
        "IPY_MODEL_f9e1ed5a03b84e9dad70123641e82094",
        "IPY_MODEL_df65e6b49d204092bf9d8297bfbf8a78"
       ],
       "layout": "IPY_MODEL_3626c1b829284015af62d400fba1c9f8"
      }
     },
     "4d48df557b284c599262e4e33683928a": {
      "model_module": "@jupyter-widgets/base",
      "model_module_version": "1.2.0",
      "model_name": "LayoutModel",
      "state": {
       "_model_module": "@jupyter-widgets/base",
       "_model_module_version": "1.2.0",
       "_model_name": "LayoutModel",
       "_view_count": null,
       "_view_module": "@jupyter-widgets/base",
       "_view_module_version": "1.2.0",
       "_view_name": "LayoutView",
       "align_content": null,
       "align_items": null,
       "align_self": null,
       "border": null,
       "bottom": null,
       "display": null,
       "flex": null,
       "flex_flow": null,
       "grid_area": null,
       "grid_auto_columns": null,
       "grid_auto_flow": null,
       "grid_auto_rows": null,
       "grid_column": null,
       "grid_gap": null,
       "grid_row": null,
       "grid_template_areas": null,
       "grid_template_columns": null,
       "grid_template_rows": null,
       "height": null,
       "justify_content": null,
       "justify_items": null,
       "left": null,
       "margin": null,
       "max_height": null,
       "max_width": null,
       "min_height": null,
       "min_width": null,
       "object_fit": null,
       "object_position": null,
       "order": null,
       "overflow": null,
       "overflow_x": null,
       "overflow_y": null,
       "padding": null,
       "right": null,
       "top": null,
       "visibility": null,
       "width": null
      }
     },
     "5f5bc785d76b4d2f8cb5ef2e296b7356": {
      "model_module": "@jupyter-widgets/controls",
      "model_module_version": "1.5.0",
      "model_name": "ProgressStyleModel",
      "state": {
       "_model_module": "@jupyter-widgets/controls",
       "_model_module_version": "1.5.0",
       "_model_name": "ProgressStyleModel",
       "_view_count": null,
       "_view_module": "@jupyter-widgets/base",
       "_view_module_version": "1.2.0",
       "_view_name": "StyleView",
       "bar_color": null,
       "description_width": "initial"
      }
     },
     "705b10350bbd4e95aa1bc731b1dccd21": {
      "model_module": "@jupyter-widgets/controls",
      "model_module_version": "1.5.0",
      "model_name": "HBoxModel",
      "state": {
       "_dom_classes": [],
       "_model_module": "@jupyter-widgets/controls",
       "_model_module_version": "1.5.0",
       "_model_name": "HBoxModel",
       "_view_count": null,
       "_view_module": "@jupyter-widgets/controls",
       "_view_module_version": "1.5.0",
       "_view_name": "HBoxView",
       "box_style": "",
       "children": [
        "IPY_MODEL_b9e97cd336fa4d269f8eece9a932ba4d",
        "IPY_MODEL_93af68461a9247ee8c08a4f756d8ecf3"
       ],
       "layout": "IPY_MODEL_9972b505dd2849d9a150ae1e7e3e3e9b"
      }
     },
     "7a521a72fa41416586d16f90d0c1477a": {
      "model_module": "@jupyter-widgets/controls",
      "model_module_version": "1.5.0",
      "model_name": "HTMLModel",
      "state": {
       "_dom_classes": [],
       "_model_module": "@jupyter-widgets/controls",
       "_model_module_version": "1.5.0",
       "_model_name": "HTMLModel",
       "_view_count": null,
       "_view_module": "@jupyter-widgets/controls",
       "_view_module_version": "1.5.0",
       "_view_name": "HTMLView",
       "description": "",
       "description_tooltip": null,
       "layout": "IPY_MODEL_4d48df557b284c599262e4e33683928a",
       "placeholder": "​",
       "style": "IPY_MODEL_117722f78a774d88970de6e8d9001b20",
       "value": " 433/433 [00:00&lt;00:00, 4.04kB/s]"
      }
     },
     "91cc6fabf93c48858b47a839bee6abfe": {
      "model_module": "@jupyter-widgets/base",
      "model_module_version": "1.2.0",
      "model_name": "LayoutModel",
      "state": {
       "_model_module": "@jupyter-widgets/base",
       "_model_module_version": "1.2.0",
       "_model_name": "LayoutModel",
       "_view_count": null,
       "_view_module": "@jupyter-widgets/base",
       "_view_module_version": "1.2.0",
       "_view_name": "LayoutView",
       "align_content": null,
       "align_items": null,
       "align_self": null,
       "border": null,
       "bottom": null,
       "display": null,
       "flex": null,
       "flex_flow": null,
       "grid_area": null,
       "grid_auto_columns": null,
       "grid_auto_flow": null,
       "grid_auto_rows": null,
       "grid_column": null,
       "grid_gap": null,
       "grid_row": null,
       "grid_template_areas": null,
       "grid_template_columns": null,
       "grid_template_rows": null,
       "height": null,
       "justify_content": null,
       "justify_items": null,
       "left": null,
       "margin": null,
       "max_height": null,
       "max_width": null,
       "min_height": null,
       "min_width": null,
       "object_fit": null,
       "object_position": null,
       "order": null,
       "overflow": null,
       "overflow_x": null,
       "overflow_y": null,
       "padding": null,
       "right": null,
       "top": null,
       "visibility": null,
       "width": null
      }
     },
     "92a05ad3c68442cc875faa45e37bab36": {
      "model_module": "@jupyter-widgets/controls",
      "model_module_version": "1.5.0",
      "model_name": "ProgressStyleModel",
      "state": {
       "_model_module": "@jupyter-widgets/controls",
       "_model_module_version": "1.5.0",
       "_model_name": "ProgressStyleModel",
       "_view_count": null,
       "_view_module": "@jupyter-widgets/base",
       "_view_module_version": "1.2.0",
       "_view_name": "StyleView",
       "bar_color": null,
       "description_width": "initial"
      }
     },
     "93af68461a9247ee8c08a4f756d8ecf3": {
      "model_module": "@jupyter-widgets/controls",
      "model_module_version": "1.5.0",
      "model_name": "HTMLModel",
      "state": {
       "_dom_classes": [],
       "_model_module": "@jupyter-widgets/controls",
       "_model_module_version": "1.5.0",
       "_model_name": "HTMLModel",
       "_view_count": null,
       "_view_module": "@jupyter-widgets/controls",
       "_view_module_version": "1.5.0",
       "_view_name": "HTMLView",
       "description": "",
       "description_tooltip": null,
       "layout": "IPY_MODEL_d712537d1d41426f959dead8a9b84a1d",
       "placeholder": "​",
       "style": "IPY_MODEL_94b203cbfece48a58f507f271eb32fcf",
       "value": " 436M/436M [00:12&lt;00:00, 34.2MB/s]"
      }
     },
     "94b203cbfece48a58f507f271eb32fcf": {
      "model_module": "@jupyter-widgets/controls",
      "model_module_version": "1.5.0",
      "model_name": "DescriptionStyleModel",
      "state": {
       "_model_module": "@jupyter-widgets/controls",
       "_model_module_version": "1.5.0",
       "_model_name": "DescriptionStyleModel",
       "_view_count": null,
       "_view_module": "@jupyter-widgets/base",
       "_view_module_version": "1.2.0",
       "_view_name": "StyleView",
       "description_width": ""
      }
     },
     "9972b505dd2849d9a150ae1e7e3e3e9b": {
      "model_module": "@jupyter-widgets/base",
      "model_module_version": "1.2.0",
      "model_name": "LayoutModel",
      "state": {
       "_model_module": "@jupyter-widgets/base",
       "_model_module_version": "1.2.0",
       "_model_name": "LayoutModel",
       "_view_count": null,
       "_view_module": "@jupyter-widgets/base",
       "_view_module_version": "1.2.0",
       "_view_name": "LayoutView",
       "align_content": null,
       "align_items": null,
       "align_self": null,
       "border": null,
       "bottom": null,
       "display": null,
       "flex": null,
       "flex_flow": null,
       "grid_area": null,
       "grid_auto_columns": null,
       "grid_auto_flow": null,
       "grid_auto_rows": null,
       "grid_column": null,
       "grid_gap": null,
       "grid_row": null,
       "grid_template_areas": null,
       "grid_template_columns": null,
       "grid_template_rows": null,
       "height": null,
       "justify_content": null,
       "justify_items": null,
       "left": null,
       "margin": null,
       "max_height": null,
       "max_width": null,
       "min_height": null,
       "min_width": null,
       "object_fit": null,
       "object_position": null,
       "order": null,
       "overflow": null,
       "overflow_x": null,
       "overflow_y": null,
       "padding": null,
       "right": null,
       "top": null,
       "visibility": null,
       "width": null
      }
     },
     "b9e97cd336fa4d269f8eece9a932ba4d": {
      "model_module": "@jupyter-widgets/controls",
      "model_module_version": "1.5.0",
      "model_name": "FloatProgressModel",
      "state": {
       "_dom_classes": [],
       "_model_module": "@jupyter-widgets/controls",
       "_model_module_version": "1.5.0",
       "_model_name": "FloatProgressModel",
       "_view_count": null,
       "_view_module": "@jupyter-widgets/controls",
       "_view_module_version": "1.5.0",
       "_view_name": "ProgressView",
       "bar_style": "success",
       "description": "Downloading: 100%",
       "description_tooltip": null,
       "layout": "IPY_MODEL_f419c00aa2d749c69981d6419399b450",
       "max": 435779157.0,
       "min": 0.0,
       "orientation": "horizontal",
       "style": "IPY_MODEL_5f5bc785d76b4d2f8cb5ef2e296b7356",
       "value": 435779157.0
      }
     },
     "c4a3be31cd6a4ac0a217bf08e37a0e4d": {
      "model_module": "@jupyter-widgets/base",
      "model_module_version": "1.2.0",
      "model_name": "LayoutModel",
      "state": {
       "_model_module": "@jupyter-widgets/base",
       "_model_module_version": "1.2.0",
       "_model_name": "LayoutModel",
       "_view_count": null,
       "_view_module": "@jupyter-widgets/base",
       "_view_module_version": "1.2.0",
       "_view_name": "LayoutView",
       "align_content": null,
       "align_items": null,
       "align_self": null,
       "border": null,
       "bottom": null,
       "display": null,
       "flex": null,
       "flex_flow": null,
       "grid_area": null,
       "grid_auto_columns": null,
       "grid_auto_flow": null,
       "grid_auto_rows": null,
       "grid_column": null,
       "grid_gap": null,
       "grid_row": null,
       "grid_template_areas": null,
       "grid_template_columns": null,
       "grid_template_rows": null,
       "height": null,
       "justify_content": null,
       "justify_items": null,
       "left": null,
       "margin": null,
       "max_height": null,
       "max_width": null,
       "min_height": null,
       "min_width": null,
       "object_fit": null,
       "object_position": null,
       "order": null,
       "overflow": null,
       "overflow_x": null,
       "overflow_y": null,
       "padding": null,
       "right": null,
       "top": null,
       "visibility": null,
       "width": null
      }
     },
     "d712537d1d41426f959dead8a9b84a1d": {
      "model_module": "@jupyter-widgets/base",
      "model_module_version": "1.2.0",
      "model_name": "LayoutModel",
      "state": {
       "_model_module": "@jupyter-widgets/base",
       "_model_module_version": "1.2.0",
       "_model_name": "LayoutModel",
       "_view_count": null,
       "_view_module": "@jupyter-widgets/base",
       "_view_module_version": "1.2.0",
       "_view_name": "LayoutView",
       "align_content": null,
       "align_items": null,
       "align_self": null,
       "border": null,
       "bottom": null,
       "display": null,
       "flex": null,
       "flex_flow": null,
       "grid_area": null,
       "grid_auto_columns": null,
       "grid_auto_flow": null,
       "grid_auto_rows": null,
       "grid_column": null,
       "grid_gap": null,
       "grid_row": null,
       "grid_template_areas": null,
       "grid_template_columns": null,
       "grid_template_rows": null,
       "height": null,
       "justify_content": null,
       "justify_items": null,
       "left": null,
       "margin": null,
       "max_height": null,
       "max_width": null,
       "min_height": null,
       "min_width": null,
       "object_fit": null,
       "object_position": null,
       "order": null,
       "overflow": null,
       "overflow_x": null,
       "overflow_y": null,
       "padding": null,
       "right": null,
       "top": null,
       "visibility": null,
       "width": null
      }
     },
     "df65e6b49d204092bf9d8297bfbf8a78": {
      "model_module": "@jupyter-widgets/controls",
      "model_module_version": "1.5.0",
      "model_name": "HTMLModel",
      "state": {
       "_dom_classes": [],
       "_model_module": "@jupyter-widgets/controls",
       "_model_module_version": "1.5.0",
       "_model_name": "HTMLModel",
       "_view_count": null,
       "_view_module": "@jupyter-widgets/controls",
       "_view_module_version": "1.5.0",
       "_view_name": "HTMLView",
       "description": "",
       "description_tooltip": null,
       "layout": "IPY_MODEL_26b0549e32fc40b6b91dba40c28c4a69",
       "placeholder": "​",
       "style": "IPY_MODEL_09b937b3f5a040f2ae3378c10a565df2",
       "value": " 213k/213k [01:01&lt;00:00, 3.49kB/s]"
      }
     },
     "f419c00aa2d749c69981d6419399b450": {
      "model_module": "@jupyter-widgets/base",
      "model_module_version": "1.2.0",
      "model_name": "LayoutModel",
      "state": {
       "_model_module": "@jupyter-widgets/base",
       "_model_module_version": "1.2.0",
       "_model_name": "LayoutModel",
       "_view_count": null,
       "_view_module": "@jupyter-widgets/base",
       "_view_module_version": "1.2.0",
       "_view_name": "LayoutView",
       "align_content": null,
       "align_items": null,
       "align_self": null,
       "border": null,
       "bottom": null,
       "display": null,
       "flex": null,
       "flex_flow": null,
       "grid_area": null,
       "grid_auto_columns": null,
       "grid_auto_flow": null,
       "grid_auto_rows": null,
       "grid_column": null,
       "grid_gap": null,
       "grid_row": null,
       "grid_template_areas": null,
       "grid_template_columns": null,
       "grid_template_rows": null,
       "height": null,
       "justify_content": null,
       "justify_items": null,
       "left": null,
       "margin": null,
       "max_height": null,
       "max_width": null,
       "min_height": null,
       "min_width": null,
       "object_fit": null,
       "object_position": null,
       "order": null,
       "overflow": null,
       "overflow_x": null,
       "overflow_y": null,
       "padding": null,
       "right": null,
       "top": null,
       "visibility": null,
       "width": null
      }
     },
     "f9e1ed5a03b84e9dad70123641e82094": {
      "model_module": "@jupyter-widgets/controls",
      "model_module_version": "1.5.0",
      "model_name": "FloatProgressModel",
      "state": {
       "_dom_classes": [],
       "_model_module": "@jupyter-widgets/controls",
       "_model_module_version": "1.5.0",
       "_model_name": "FloatProgressModel",
       "_view_count": null,
       "_view_module": "@jupyter-widgets/controls",
       "_view_module_version": "1.5.0",
       "_view_name": "ProgressView",
       "bar_style": "success",
       "description": "Downloading: 100%",
       "description_tooltip": null,
       "layout": "IPY_MODEL_91cc6fabf93c48858b47a839bee6abfe",
       "max": 213450.0,
       "min": 0.0,
       "orientation": "horizontal",
       "style": "IPY_MODEL_92a05ad3c68442cc875faa45e37bab36",
       "value": 213450.0
      }
     },
     "fdfa30abaaec470097ffc1a64469e40c": {
      "model_module": "@jupyter-widgets/base",
      "model_module_version": "1.2.0",
      "model_name": "LayoutModel",
      "state": {
       "_model_module": "@jupyter-widgets/base",
       "_model_module_version": "1.2.0",
       "_model_name": "LayoutModel",
       "_view_count": null,
       "_view_module": "@jupyter-widgets/base",
       "_view_module_version": "1.2.0",
       "_view_name": "LayoutView",
       "align_content": null,
       "align_items": null,
       "align_self": null,
       "border": null,
       "bottom": null,
       "display": null,
       "flex": null,
       "flex_flow": null,
       "grid_area": null,
       "grid_auto_columns": null,
       "grid_auto_flow": null,
       "grid_auto_rows": null,
       "grid_column": null,
       "grid_gap": null,
       "grid_row": null,
       "grid_template_areas": null,
       "grid_template_columns": null,
       "grid_template_rows": null,
       "height": null,
       "justify_content": null,
       "justify_items": null,
       "left": null,
       "margin": null,
       "max_height": null,
       "max_width": null,
       "min_height": null,
       "min_width": null,
       "object_fit": null,
       "object_position": null,
       "order": null,
       "overflow": null,
       "overflow_x": null,
       "overflow_y": null,
       "padding": null,
       "right": null,
       "top": null,
       "visibility": null,
       "width": null
      }
     }
    },
    "version_major": 2,
    "version_minor": 0
   }
  }
 },
 "nbformat": 4,
 "nbformat_minor": 4
}
